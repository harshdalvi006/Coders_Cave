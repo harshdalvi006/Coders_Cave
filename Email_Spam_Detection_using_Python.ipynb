{
  "nbformat": 4,
  "nbformat_minor": 0,
  "metadata": {
    "colab": {
      "provenance": []
    },
    "kernelspec": {
      "name": "python3",
      "display_name": "Python 3"
    },
    "language_info": {
      "name": "python"
    }
  },
  "cells": [
    {
      "cell_type": "markdown",
      "source": [
        "Reading and Understanding of Data"
      ],
      "metadata": {
        "id": "HCBDLLfnKqdX"
      }
    },
    {
      "cell_type": "code",
      "execution_count": 3,
      "metadata": {
        "id": "YTTQQ89BKJ2u"
      },
      "outputs": [],
      "source": [
        "#Importing Libraries\n",
        "import pandas as pd\n",
        "import numpy as np\n",
        "import matplotlib.pyplot as plt\n",
        "import seaborn as sns \n",
        "from sklearn.naive_bayes import MultinomialNB\n",
        "from sklearn import svm\n",
        "from sklearn.metrics import accuracy_score, confusion_matrix, roc_curve, auc\n",
        "from sklearn.model_selection import train_test_split\n",
        "from sklearn.feature_extraction.text import TfidfVectorizer\n",
        "from sklearn.linear_model import LogisticRegression\n",
        "from sklearn.metrics import accuracy_score\n",
        "\n",
        "import warnings\n",
        "warnings.filterwarnings('ignore',category=FutureWarning)"
      ]
    },
    {
      "cell_type": "markdown",
      "source": [
        "Loading the Dataset"
      ],
      "metadata": {
        "id": "T0AlqM6AKz1Z"
      }
    },
    {
      "cell_type": "code",
      "source": [
        "# Loading the Dataset\n",
        "df = pd.read_csv('/content/spam_ham_dataset.csv')\n",
        "df"
      ],
      "metadata": {
        "colab": {
          "base_uri": "https://localhost:8080/",
          "height": 423
        },
        "id": "k52paSb9K0Mm",
        "outputId": "c9e87e02-1c2a-4b2b-d81d-b02cb2a7ca5a"
      },
      "execution_count": 4,
      "outputs": [
        {
          "output_type": "execute_result",
          "data": {
            "text/plain": [
              "      Unnamed: 0 label                                               text  \\\n",
              "0            605   ham  Subject: enron methanol ; meter # : 988291\\r\\n...   \n",
              "1           2349   ham  Subject: hpl nom for january 9 , 2001\\r\\n( see...   \n",
              "2           3624   ham  Subject: neon retreat\\r\\nho ho ho , we ' re ar...   \n",
              "3           4685  spam  Subject: photoshop , windows , office . cheap ...   \n",
              "4           2030   ham  Subject: re : indian springs\\r\\nthis deal is t...   \n",
              "...          ...   ...                                                ...   \n",
              "5166        1518   ham  Subject: put the 10 on the ft\\r\\nthe transport...   \n",
              "5167         404   ham  Subject: 3 / 4 / 2000 and following noms\\r\\nhp...   \n",
              "5168        2933   ham  Subject: calpine daily gas nomination\\r\\n>\\r\\n...   \n",
              "5169        1409   ham  Subject: industrial worksheets for august 2000...   \n",
              "5170        4807  spam  Subject: important online banking alert\\r\\ndea...   \n",
              "\n",
              "      label_num  \n",
              "0             0  \n",
              "1             0  \n",
              "2             0  \n",
              "3             1  \n",
              "4             0  \n",
              "...         ...  \n",
              "5166          0  \n",
              "5167          0  \n",
              "5168          0  \n",
              "5169          0  \n",
              "5170          1  \n",
              "\n",
              "[5171 rows x 4 columns]"
            ],
            "text/html": [
              "\n",
              "  <div id=\"df-5b6b9559-ceed-4936-8501-5ac6ee07ac86\">\n",
              "    <div class=\"colab-df-container\">\n",
              "      <div>\n",
              "<style scoped>\n",
              "    .dataframe tbody tr th:only-of-type {\n",
              "        vertical-align: middle;\n",
              "    }\n",
              "\n",
              "    .dataframe tbody tr th {\n",
              "        vertical-align: top;\n",
              "    }\n",
              "\n",
              "    .dataframe thead th {\n",
              "        text-align: right;\n",
              "    }\n",
              "</style>\n",
              "<table border=\"1\" class=\"dataframe\">\n",
              "  <thead>\n",
              "    <tr style=\"text-align: right;\">\n",
              "      <th></th>\n",
              "      <th>Unnamed: 0</th>\n",
              "      <th>label</th>\n",
              "      <th>text</th>\n",
              "      <th>label_num</th>\n",
              "    </tr>\n",
              "  </thead>\n",
              "  <tbody>\n",
              "    <tr>\n",
              "      <th>0</th>\n",
              "      <td>605</td>\n",
              "      <td>ham</td>\n",
              "      <td>Subject: enron methanol ; meter # : 988291\\r\\n...</td>\n",
              "      <td>0</td>\n",
              "    </tr>\n",
              "    <tr>\n",
              "      <th>1</th>\n",
              "      <td>2349</td>\n",
              "      <td>ham</td>\n",
              "      <td>Subject: hpl nom for january 9 , 2001\\r\\n( see...</td>\n",
              "      <td>0</td>\n",
              "    </tr>\n",
              "    <tr>\n",
              "      <th>2</th>\n",
              "      <td>3624</td>\n",
              "      <td>ham</td>\n",
              "      <td>Subject: neon retreat\\r\\nho ho ho , we ' re ar...</td>\n",
              "      <td>0</td>\n",
              "    </tr>\n",
              "    <tr>\n",
              "      <th>3</th>\n",
              "      <td>4685</td>\n",
              "      <td>spam</td>\n",
              "      <td>Subject: photoshop , windows , office . cheap ...</td>\n",
              "      <td>1</td>\n",
              "    </tr>\n",
              "    <tr>\n",
              "      <th>4</th>\n",
              "      <td>2030</td>\n",
              "      <td>ham</td>\n",
              "      <td>Subject: re : indian springs\\r\\nthis deal is t...</td>\n",
              "      <td>0</td>\n",
              "    </tr>\n",
              "    <tr>\n",
              "      <th>...</th>\n",
              "      <td>...</td>\n",
              "      <td>...</td>\n",
              "      <td>...</td>\n",
              "      <td>...</td>\n",
              "    </tr>\n",
              "    <tr>\n",
              "      <th>5166</th>\n",
              "      <td>1518</td>\n",
              "      <td>ham</td>\n",
              "      <td>Subject: put the 10 on the ft\\r\\nthe transport...</td>\n",
              "      <td>0</td>\n",
              "    </tr>\n",
              "    <tr>\n",
              "      <th>5167</th>\n",
              "      <td>404</td>\n",
              "      <td>ham</td>\n",
              "      <td>Subject: 3 / 4 / 2000 and following noms\\r\\nhp...</td>\n",
              "      <td>0</td>\n",
              "    </tr>\n",
              "    <tr>\n",
              "      <th>5168</th>\n",
              "      <td>2933</td>\n",
              "      <td>ham</td>\n",
              "      <td>Subject: calpine daily gas nomination\\r\\n&gt;\\r\\n...</td>\n",
              "      <td>0</td>\n",
              "    </tr>\n",
              "    <tr>\n",
              "      <th>5169</th>\n",
              "      <td>1409</td>\n",
              "      <td>ham</td>\n",
              "      <td>Subject: industrial worksheets for august 2000...</td>\n",
              "      <td>0</td>\n",
              "    </tr>\n",
              "    <tr>\n",
              "      <th>5170</th>\n",
              "      <td>4807</td>\n",
              "      <td>spam</td>\n",
              "      <td>Subject: important online banking alert\\r\\ndea...</td>\n",
              "      <td>1</td>\n",
              "    </tr>\n",
              "  </tbody>\n",
              "</table>\n",
              "<p>5171 rows × 4 columns</p>\n",
              "</div>\n",
              "      <button class=\"colab-df-convert\" onclick=\"convertToInteractive('df-5b6b9559-ceed-4936-8501-5ac6ee07ac86')\"\n",
              "              title=\"Convert this dataframe to an interactive table.\"\n",
              "              style=\"display:none;\">\n",
              "        \n",
              "  <svg xmlns=\"http://www.w3.org/2000/svg\" height=\"24px\"viewBox=\"0 0 24 24\"\n",
              "       width=\"24px\">\n",
              "    <path d=\"M0 0h24v24H0V0z\" fill=\"none\"/>\n",
              "    <path d=\"M18.56 5.44l.94 2.06.94-2.06 2.06-.94-2.06-.94-.94-2.06-.94 2.06-2.06.94zm-11 1L8.5 8.5l.94-2.06 2.06-.94-2.06-.94L8.5 2.5l-.94 2.06-2.06.94zm10 10l.94 2.06.94-2.06 2.06-.94-2.06-.94-.94-2.06-.94 2.06-2.06.94z\"/><path d=\"M17.41 7.96l-1.37-1.37c-.4-.4-.92-.59-1.43-.59-.52 0-1.04.2-1.43.59L10.3 9.45l-7.72 7.72c-.78.78-.78 2.05 0 2.83L4 21.41c.39.39.9.59 1.41.59.51 0 1.02-.2 1.41-.59l7.78-7.78 2.81-2.81c.8-.78.8-2.07 0-2.86zM5.41 20L4 18.59l7.72-7.72 1.47 1.35L5.41 20z\"/>\n",
              "  </svg>\n",
              "      </button>\n",
              "      \n",
              "  <style>\n",
              "    .colab-df-container {\n",
              "      display:flex;\n",
              "      flex-wrap:wrap;\n",
              "      gap: 12px;\n",
              "    }\n",
              "\n",
              "    .colab-df-convert {\n",
              "      background-color: #E8F0FE;\n",
              "      border: none;\n",
              "      border-radius: 50%;\n",
              "      cursor: pointer;\n",
              "      display: none;\n",
              "      fill: #1967D2;\n",
              "      height: 32px;\n",
              "      padding: 0 0 0 0;\n",
              "      width: 32px;\n",
              "    }\n",
              "\n",
              "    .colab-df-convert:hover {\n",
              "      background-color: #E2EBFA;\n",
              "      box-shadow: 0px 1px 2px rgba(60, 64, 67, 0.3), 0px 1px 3px 1px rgba(60, 64, 67, 0.15);\n",
              "      fill: #174EA6;\n",
              "    }\n",
              "\n",
              "    [theme=dark] .colab-df-convert {\n",
              "      background-color: #3B4455;\n",
              "      fill: #D2E3FC;\n",
              "    }\n",
              "\n",
              "    [theme=dark] .colab-df-convert:hover {\n",
              "      background-color: #434B5C;\n",
              "      box-shadow: 0px 1px 3px 1px rgba(0, 0, 0, 0.15);\n",
              "      filter: drop-shadow(0px 1px 2px rgba(0, 0, 0, 0.3));\n",
              "      fill: #FFFFFF;\n",
              "    }\n",
              "  </style>\n",
              "\n",
              "      <script>\n",
              "        const buttonEl =\n",
              "          document.querySelector('#df-5b6b9559-ceed-4936-8501-5ac6ee07ac86 button.colab-df-convert');\n",
              "        buttonEl.style.display =\n",
              "          google.colab.kernel.accessAllowed ? 'block' : 'none';\n",
              "\n",
              "        async function convertToInteractive(key) {\n",
              "          const element = document.querySelector('#df-5b6b9559-ceed-4936-8501-5ac6ee07ac86');\n",
              "          const dataTable =\n",
              "            await google.colab.kernel.invokeFunction('convertToInteractive',\n",
              "                                                     [key], {});\n",
              "          if (!dataTable) return;\n",
              "\n",
              "          const docLinkHtml = 'Like what you see? Visit the ' +\n",
              "            '<a target=\"_blank\" href=https://colab.research.google.com/notebooks/data_table.ipynb>data table notebook</a>'\n",
              "            + ' to learn more about interactive tables.';\n",
              "          element.innerHTML = '';\n",
              "          dataTable['output_type'] = 'display_data';\n",
              "          await google.colab.output.renderOutput(dataTable, element);\n",
              "          const docLink = document.createElement('div');\n",
              "          docLink.innerHTML = docLinkHtml;\n",
              "          element.appendChild(docLink);\n",
              "        }\n",
              "      </script>\n",
              "    </div>\n",
              "  </div>\n",
              "  "
            ]
          },
          "metadata": {},
          "execution_count": 4
        }
      ]
    },
    {
      "cell_type": "code",
      "source": [
        "# Showing First 5 Rows\n",
        "df.head()"
      ],
      "metadata": {
        "colab": {
          "base_uri": "https://localhost:8080/",
          "height": 206
        },
        "id": "YwkxCQiRK1yy",
        "outputId": "755639b7-2328-4970-e0ad-b932ab28daeb"
      },
      "execution_count": 5,
      "outputs": [
        {
          "output_type": "execute_result",
          "data": {
            "text/plain": [
              "   Unnamed: 0 label                                               text  \\\n",
              "0         605   ham  Subject: enron methanol ; meter # : 988291\\r\\n...   \n",
              "1        2349   ham  Subject: hpl nom for january 9 , 2001\\r\\n( see...   \n",
              "2        3624   ham  Subject: neon retreat\\r\\nho ho ho , we ' re ar...   \n",
              "3        4685  spam  Subject: photoshop , windows , office . cheap ...   \n",
              "4        2030   ham  Subject: re : indian springs\\r\\nthis deal is t...   \n",
              "\n",
              "   label_num  \n",
              "0          0  \n",
              "1          0  \n",
              "2          0  \n",
              "3          1  \n",
              "4          0  "
            ],
            "text/html": [
              "\n",
              "  <div id=\"df-75419344-adbd-4453-8396-1a19c1b782f1\">\n",
              "    <div class=\"colab-df-container\">\n",
              "      <div>\n",
              "<style scoped>\n",
              "    .dataframe tbody tr th:only-of-type {\n",
              "        vertical-align: middle;\n",
              "    }\n",
              "\n",
              "    .dataframe tbody tr th {\n",
              "        vertical-align: top;\n",
              "    }\n",
              "\n",
              "    .dataframe thead th {\n",
              "        text-align: right;\n",
              "    }\n",
              "</style>\n",
              "<table border=\"1\" class=\"dataframe\">\n",
              "  <thead>\n",
              "    <tr style=\"text-align: right;\">\n",
              "      <th></th>\n",
              "      <th>Unnamed: 0</th>\n",
              "      <th>label</th>\n",
              "      <th>text</th>\n",
              "      <th>label_num</th>\n",
              "    </tr>\n",
              "  </thead>\n",
              "  <tbody>\n",
              "    <tr>\n",
              "      <th>0</th>\n",
              "      <td>605</td>\n",
              "      <td>ham</td>\n",
              "      <td>Subject: enron methanol ; meter # : 988291\\r\\n...</td>\n",
              "      <td>0</td>\n",
              "    </tr>\n",
              "    <tr>\n",
              "      <th>1</th>\n",
              "      <td>2349</td>\n",
              "      <td>ham</td>\n",
              "      <td>Subject: hpl nom for january 9 , 2001\\r\\n( see...</td>\n",
              "      <td>0</td>\n",
              "    </tr>\n",
              "    <tr>\n",
              "      <th>2</th>\n",
              "      <td>3624</td>\n",
              "      <td>ham</td>\n",
              "      <td>Subject: neon retreat\\r\\nho ho ho , we ' re ar...</td>\n",
              "      <td>0</td>\n",
              "    </tr>\n",
              "    <tr>\n",
              "      <th>3</th>\n",
              "      <td>4685</td>\n",
              "      <td>spam</td>\n",
              "      <td>Subject: photoshop , windows , office . cheap ...</td>\n",
              "      <td>1</td>\n",
              "    </tr>\n",
              "    <tr>\n",
              "      <th>4</th>\n",
              "      <td>2030</td>\n",
              "      <td>ham</td>\n",
              "      <td>Subject: re : indian springs\\r\\nthis deal is t...</td>\n",
              "      <td>0</td>\n",
              "    </tr>\n",
              "  </tbody>\n",
              "</table>\n",
              "</div>\n",
              "      <button class=\"colab-df-convert\" onclick=\"convertToInteractive('df-75419344-adbd-4453-8396-1a19c1b782f1')\"\n",
              "              title=\"Convert this dataframe to an interactive table.\"\n",
              "              style=\"display:none;\">\n",
              "        \n",
              "  <svg xmlns=\"http://www.w3.org/2000/svg\" height=\"24px\"viewBox=\"0 0 24 24\"\n",
              "       width=\"24px\">\n",
              "    <path d=\"M0 0h24v24H0V0z\" fill=\"none\"/>\n",
              "    <path d=\"M18.56 5.44l.94 2.06.94-2.06 2.06-.94-2.06-.94-.94-2.06-.94 2.06-2.06.94zm-11 1L8.5 8.5l.94-2.06 2.06-.94-2.06-.94L8.5 2.5l-.94 2.06-2.06.94zm10 10l.94 2.06.94-2.06 2.06-.94-2.06-.94-.94-2.06-.94 2.06-2.06.94z\"/><path d=\"M17.41 7.96l-1.37-1.37c-.4-.4-.92-.59-1.43-.59-.52 0-1.04.2-1.43.59L10.3 9.45l-7.72 7.72c-.78.78-.78 2.05 0 2.83L4 21.41c.39.39.9.59 1.41.59.51 0 1.02-.2 1.41-.59l7.78-7.78 2.81-2.81c.8-.78.8-2.07 0-2.86zM5.41 20L4 18.59l7.72-7.72 1.47 1.35L5.41 20z\"/>\n",
              "  </svg>\n",
              "      </button>\n",
              "      \n",
              "  <style>\n",
              "    .colab-df-container {\n",
              "      display:flex;\n",
              "      flex-wrap:wrap;\n",
              "      gap: 12px;\n",
              "    }\n",
              "\n",
              "    .colab-df-convert {\n",
              "      background-color: #E8F0FE;\n",
              "      border: none;\n",
              "      border-radius: 50%;\n",
              "      cursor: pointer;\n",
              "      display: none;\n",
              "      fill: #1967D2;\n",
              "      height: 32px;\n",
              "      padding: 0 0 0 0;\n",
              "      width: 32px;\n",
              "    }\n",
              "\n",
              "    .colab-df-convert:hover {\n",
              "      background-color: #E2EBFA;\n",
              "      box-shadow: 0px 1px 2px rgba(60, 64, 67, 0.3), 0px 1px 3px 1px rgba(60, 64, 67, 0.15);\n",
              "      fill: #174EA6;\n",
              "    }\n",
              "\n",
              "    [theme=dark] .colab-df-convert {\n",
              "      background-color: #3B4455;\n",
              "      fill: #D2E3FC;\n",
              "    }\n",
              "\n",
              "    [theme=dark] .colab-df-convert:hover {\n",
              "      background-color: #434B5C;\n",
              "      box-shadow: 0px 1px 3px 1px rgba(0, 0, 0, 0.15);\n",
              "      filter: drop-shadow(0px 1px 2px rgba(0, 0, 0, 0.3));\n",
              "      fill: #FFFFFF;\n",
              "    }\n",
              "  </style>\n",
              "\n",
              "      <script>\n",
              "        const buttonEl =\n",
              "          document.querySelector('#df-75419344-adbd-4453-8396-1a19c1b782f1 button.colab-df-convert');\n",
              "        buttonEl.style.display =\n",
              "          google.colab.kernel.accessAllowed ? 'block' : 'none';\n",
              "\n",
              "        async function convertToInteractive(key) {\n",
              "          const element = document.querySelector('#df-75419344-adbd-4453-8396-1a19c1b782f1');\n",
              "          const dataTable =\n",
              "            await google.colab.kernel.invokeFunction('convertToInteractive',\n",
              "                                                     [key], {});\n",
              "          if (!dataTable) return;\n",
              "\n",
              "          const docLinkHtml = 'Like what you see? Visit the ' +\n",
              "            '<a target=\"_blank\" href=https://colab.research.google.com/notebooks/data_table.ipynb>data table notebook</a>'\n",
              "            + ' to learn more about interactive tables.';\n",
              "          element.innerHTML = '';\n",
              "          dataTable['output_type'] = 'display_data';\n",
              "          await google.colab.output.renderOutput(dataTable, element);\n",
              "          const docLink = document.createElement('div');\n",
              "          docLink.innerHTML = docLinkHtml;\n",
              "          element.appendChild(docLink);\n",
              "        }\n",
              "      </script>\n",
              "    </div>\n",
              "  </div>\n",
              "  "
            ]
          },
          "metadata": {},
          "execution_count": 5
        }
      ]
    },
    {
      "cell_type": "code",
      "source": [
        "# Showing Last 5 Rows\n",
        "df.tail()"
      ],
      "metadata": {
        "colab": {
          "base_uri": "https://localhost:8080/",
          "height": 206
        },
        "id": "f7YqXmFbK836",
        "outputId": "fb23e10b-dd4e-4ffb-b77e-4db815bd2443"
      },
      "execution_count": 6,
      "outputs": [
        {
          "output_type": "execute_result",
          "data": {
            "text/plain": [
              "      Unnamed: 0 label                                               text  \\\n",
              "5166        1518   ham  Subject: put the 10 on the ft\\r\\nthe transport...   \n",
              "5167         404   ham  Subject: 3 / 4 / 2000 and following noms\\r\\nhp...   \n",
              "5168        2933   ham  Subject: calpine daily gas nomination\\r\\n>\\r\\n...   \n",
              "5169        1409   ham  Subject: industrial worksheets for august 2000...   \n",
              "5170        4807  spam  Subject: important online banking alert\\r\\ndea...   \n",
              "\n",
              "      label_num  \n",
              "5166          0  \n",
              "5167          0  \n",
              "5168          0  \n",
              "5169          0  \n",
              "5170          1  "
            ],
            "text/html": [
              "\n",
              "  <div id=\"df-8d4ef8f8-d8cf-4d6a-8afe-5f1a3cc6600f\">\n",
              "    <div class=\"colab-df-container\">\n",
              "      <div>\n",
              "<style scoped>\n",
              "    .dataframe tbody tr th:only-of-type {\n",
              "        vertical-align: middle;\n",
              "    }\n",
              "\n",
              "    .dataframe tbody tr th {\n",
              "        vertical-align: top;\n",
              "    }\n",
              "\n",
              "    .dataframe thead th {\n",
              "        text-align: right;\n",
              "    }\n",
              "</style>\n",
              "<table border=\"1\" class=\"dataframe\">\n",
              "  <thead>\n",
              "    <tr style=\"text-align: right;\">\n",
              "      <th></th>\n",
              "      <th>Unnamed: 0</th>\n",
              "      <th>label</th>\n",
              "      <th>text</th>\n",
              "      <th>label_num</th>\n",
              "    </tr>\n",
              "  </thead>\n",
              "  <tbody>\n",
              "    <tr>\n",
              "      <th>5166</th>\n",
              "      <td>1518</td>\n",
              "      <td>ham</td>\n",
              "      <td>Subject: put the 10 on the ft\\r\\nthe transport...</td>\n",
              "      <td>0</td>\n",
              "    </tr>\n",
              "    <tr>\n",
              "      <th>5167</th>\n",
              "      <td>404</td>\n",
              "      <td>ham</td>\n",
              "      <td>Subject: 3 / 4 / 2000 and following noms\\r\\nhp...</td>\n",
              "      <td>0</td>\n",
              "    </tr>\n",
              "    <tr>\n",
              "      <th>5168</th>\n",
              "      <td>2933</td>\n",
              "      <td>ham</td>\n",
              "      <td>Subject: calpine daily gas nomination\\r\\n&gt;\\r\\n...</td>\n",
              "      <td>0</td>\n",
              "    </tr>\n",
              "    <tr>\n",
              "      <th>5169</th>\n",
              "      <td>1409</td>\n",
              "      <td>ham</td>\n",
              "      <td>Subject: industrial worksheets for august 2000...</td>\n",
              "      <td>0</td>\n",
              "    </tr>\n",
              "    <tr>\n",
              "      <th>5170</th>\n",
              "      <td>4807</td>\n",
              "      <td>spam</td>\n",
              "      <td>Subject: important online banking alert\\r\\ndea...</td>\n",
              "      <td>1</td>\n",
              "    </tr>\n",
              "  </tbody>\n",
              "</table>\n",
              "</div>\n",
              "      <button class=\"colab-df-convert\" onclick=\"convertToInteractive('df-8d4ef8f8-d8cf-4d6a-8afe-5f1a3cc6600f')\"\n",
              "              title=\"Convert this dataframe to an interactive table.\"\n",
              "              style=\"display:none;\">\n",
              "        \n",
              "  <svg xmlns=\"http://www.w3.org/2000/svg\" height=\"24px\"viewBox=\"0 0 24 24\"\n",
              "       width=\"24px\">\n",
              "    <path d=\"M0 0h24v24H0V0z\" fill=\"none\"/>\n",
              "    <path d=\"M18.56 5.44l.94 2.06.94-2.06 2.06-.94-2.06-.94-.94-2.06-.94 2.06-2.06.94zm-11 1L8.5 8.5l.94-2.06 2.06-.94-2.06-.94L8.5 2.5l-.94 2.06-2.06.94zm10 10l.94 2.06.94-2.06 2.06-.94-2.06-.94-.94-2.06-.94 2.06-2.06.94z\"/><path d=\"M17.41 7.96l-1.37-1.37c-.4-.4-.92-.59-1.43-.59-.52 0-1.04.2-1.43.59L10.3 9.45l-7.72 7.72c-.78.78-.78 2.05 0 2.83L4 21.41c.39.39.9.59 1.41.59.51 0 1.02-.2 1.41-.59l7.78-7.78 2.81-2.81c.8-.78.8-2.07 0-2.86zM5.41 20L4 18.59l7.72-7.72 1.47 1.35L5.41 20z\"/>\n",
              "  </svg>\n",
              "      </button>\n",
              "      \n",
              "  <style>\n",
              "    .colab-df-container {\n",
              "      display:flex;\n",
              "      flex-wrap:wrap;\n",
              "      gap: 12px;\n",
              "    }\n",
              "\n",
              "    .colab-df-convert {\n",
              "      background-color: #E8F0FE;\n",
              "      border: none;\n",
              "      border-radius: 50%;\n",
              "      cursor: pointer;\n",
              "      display: none;\n",
              "      fill: #1967D2;\n",
              "      height: 32px;\n",
              "      padding: 0 0 0 0;\n",
              "      width: 32px;\n",
              "    }\n",
              "\n",
              "    .colab-df-convert:hover {\n",
              "      background-color: #E2EBFA;\n",
              "      box-shadow: 0px 1px 2px rgba(60, 64, 67, 0.3), 0px 1px 3px 1px rgba(60, 64, 67, 0.15);\n",
              "      fill: #174EA6;\n",
              "    }\n",
              "\n",
              "    [theme=dark] .colab-df-convert {\n",
              "      background-color: #3B4455;\n",
              "      fill: #D2E3FC;\n",
              "    }\n",
              "\n",
              "    [theme=dark] .colab-df-convert:hover {\n",
              "      background-color: #434B5C;\n",
              "      box-shadow: 0px 1px 3px 1px rgba(0, 0, 0, 0.15);\n",
              "      filter: drop-shadow(0px 1px 2px rgba(0, 0, 0, 0.3));\n",
              "      fill: #FFFFFF;\n",
              "    }\n",
              "  </style>\n",
              "\n",
              "      <script>\n",
              "        const buttonEl =\n",
              "          document.querySelector('#df-8d4ef8f8-d8cf-4d6a-8afe-5f1a3cc6600f button.colab-df-convert');\n",
              "        buttonEl.style.display =\n",
              "          google.colab.kernel.accessAllowed ? 'block' : 'none';\n",
              "\n",
              "        async function convertToInteractive(key) {\n",
              "          const element = document.querySelector('#df-8d4ef8f8-d8cf-4d6a-8afe-5f1a3cc6600f');\n",
              "          const dataTable =\n",
              "            await google.colab.kernel.invokeFunction('convertToInteractive',\n",
              "                                                     [key], {});\n",
              "          if (!dataTable) return;\n",
              "\n",
              "          const docLinkHtml = 'Like what you see? Visit the ' +\n",
              "            '<a target=\"_blank\" href=https://colab.research.google.com/notebooks/data_table.ipynb>data table notebook</a>'\n",
              "            + ' to learn more about interactive tables.';\n",
              "          element.innerHTML = '';\n",
              "          dataTable['output_type'] = 'display_data';\n",
              "          await google.colab.output.renderOutput(dataTable, element);\n",
              "          const docLink = document.createElement('div');\n",
              "          docLink.innerHTML = docLinkHtml;\n",
              "          element.appendChild(docLink);\n",
              "        }\n",
              "      </script>\n",
              "    </div>\n",
              "  </div>\n",
              "  "
            ]
          },
          "metadata": {},
          "execution_count": 6
        }
      ]
    },
    {
      "cell_type": "code",
      "source": [
        "# Showing no. of rows and columns in the data\n",
        "df.shape\n"
      ],
      "metadata": {
        "colab": {
          "base_uri": "https://localhost:8080/"
        },
        "id": "8R-RpKGGK-HO",
        "outputId": "a8ddd6b6-bd32-4fb4-9b8e-c96300969937"
      },
      "execution_count": 7,
      "outputs": [
        {
          "output_type": "execute_result",
          "data": {
            "text/plain": [
              "(5171, 4)"
            ]
          },
          "metadata": {},
          "execution_count": 7
        }
      ]
    },
    {
      "cell_type": "code",
      "source": [
        "# Showing columns of the dataset\n",
        "df.columns"
      ],
      "metadata": {
        "colab": {
          "base_uri": "https://localhost:8080/"
        },
        "id": "4uPRVbbxLBC8",
        "outputId": "94a733f6-397f-4d45-badf-a91650553a30"
      },
      "execution_count": 8,
      "outputs": [
        {
          "output_type": "execute_result",
          "data": {
            "text/plain": [
              "Index(['Unnamed: 0', 'label', 'text', 'label_num'], dtype='object')"
            ]
          },
          "metadata": {},
          "execution_count": 8
        }
      ]
    },
    {
      "cell_type": "markdown",
      "source": [
        "**Data pre Processing**"
      ],
      "metadata": {
        "id": "5Bq8Ei0xLCeI"
      }
    },
    {
      "cell_type": "code",
      "source": [
        "# Checking for Duplicated Values\n",
        "df.duplicated().sum()"
      ],
      "metadata": {
        "colab": {
          "base_uri": "https://localhost:8080/"
        },
        "id": "TqYdYDkSLDGZ",
        "outputId": "a30ff4f2-a324-4eed-857c-44bcde39882f"
      },
      "execution_count": 9,
      "outputs": [
        {
          "output_type": "execute_result",
          "data": {
            "text/plain": [
              "0"
            ]
          },
          "metadata": {},
          "execution_count": 9
        }
      ]
    },
    {
      "cell_type": "code",
      "source": [
        "# Checking for null values\n",
        "df.isna().sum() # no null values"
      ],
      "metadata": {
        "colab": {
          "base_uri": "https://localhost:8080/"
        },
        "id": "mVOeIDvDLE8C",
        "outputId": "a12c8620-f1a9-4071-dd41-25f7639b1ad8"
      },
      "execution_count": 10,
      "outputs": [
        {
          "output_type": "execute_result",
          "data": {
            "text/plain": [
              "Unnamed: 0    0\n",
              "label         0\n",
              "text          0\n",
              "label_num     0\n",
              "dtype: int64"
            ]
          },
          "metadata": {},
          "execution_count": 10
        }
      ]
    },
    {
      "cell_type": "code",
      "source": [
        "# Showing information about the dataset\n",
        "df.info()"
      ],
      "metadata": {
        "colab": {
          "base_uri": "https://localhost:8080/"
        },
        "id": "FRZ-37vwLGWZ",
        "outputId": "8bc7b89f-e9b9-47c0-92af-99370b4013d9"
      },
      "execution_count": 11,
      "outputs": [
        {
          "output_type": "stream",
          "name": "stdout",
          "text": [
            "<class 'pandas.core.frame.DataFrame'>\n",
            "RangeIndex: 5171 entries, 0 to 5170\n",
            "Data columns (total 4 columns):\n",
            " #   Column      Non-Null Count  Dtype \n",
            "---  ------      --------------  ----- \n",
            " 0   Unnamed: 0  5171 non-null   int64 \n",
            " 1   label       5171 non-null   object\n",
            " 2   text        5171 non-null   object\n",
            " 3   label_num   5171 non-null   int64 \n",
            "dtypes: int64(2), object(2)\n",
            "memory usage: 161.7+ KB\n"
          ]
        }
      ]
    },
    {
      "cell_type": "code",
      "source": [
        "# Showing Statistical summary of the data\n",
        "df.describe()"
      ],
      "metadata": {
        "colab": {
          "base_uri": "https://localhost:8080/",
          "height": 300
        },
        "id": "q2yFl7l4LH84",
        "outputId": "2813ba5a-0d2d-4e26-9071-980b11fcf9aa"
      },
      "execution_count": 12,
      "outputs": [
        {
          "output_type": "execute_result",
          "data": {
            "text/plain": [
              "        Unnamed: 0    label_num\n",
              "count  5171.000000  5171.000000\n",
              "mean   2585.000000     0.289886\n",
              "std    1492.883452     0.453753\n",
              "min       0.000000     0.000000\n",
              "25%    1292.500000     0.000000\n",
              "50%    2585.000000     0.000000\n",
              "75%    3877.500000     1.000000\n",
              "max    5170.000000     1.000000"
            ],
            "text/html": [
              "\n",
              "  <div id=\"df-e825e076-ea57-48b0-ba09-a1261a863e0d\">\n",
              "    <div class=\"colab-df-container\">\n",
              "      <div>\n",
              "<style scoped>\n",
              "    .dataframe tbody tr th:only-of-type {\n",
              "        vertical-align: middle;\n",
              "    }\n",
              "\n",
              "    .dataframe tbody tr th {\n",
              "        vertical-align: top;\n",
              "    }\n",
              "\n",
              "    .dataframe thead th {\n",
              "        text-align: right;\n",
              "    }\n",
              "</style>\n",
              "<table border=\"1\" class=\"dataframe\">\n",
              "  <thead>\n",
              "    <tr style=\"text-align: right;\">\n",
              "      <th></th>\n",
              "      <th>Unnamed: 0</th>\n",
              "      <th>label_num</th>\n",
              "    </tr>\n",
              "  </thead>\n",
              "  <tbody>\n",
              "    <tr>\n",
              "      <th>count</th>\n",
              "      <td>5171.000000</td>\n",
              "      <td>5171.000000</td>\n",
              "    </tr>\n",
              "    <tr>\n",
              "      <th>mean</th>\n",
              "      <td>2585.000000</td>\n",
              "      <td>0.289886</td>\n",
              "    </tr>\n",
              "    <tr>\n",
              "      <th>std</th>\n",
              "      <td>1492.883452</td>\n",
              "      <td>0.453753</td>\n",
              "    </tr>\n",
              "    <tr>\n",
              "      <th>min</th>\n",
              "      <td>0.000000</td>\n",
              "      <td>0.000000</td>\n",
              "    </tr>\n",
              "    <tr>\n",
              "      <th>25%</th>\n",
              "      <td>1292.500000</td>\n",
              "      <td>0.000000</td>\n",
              "    </tr>\n",
              "    <tr>\n",
              "      <th>50%</th>\n",
              "      <td>2585.000000</td>\n",
              "      <td>0.000000</td>\n",
              "    </tr>\n",
              "    <tr>\n",
              "      <th>75%</th>\n",
              "      <td>3877.500000</td>\n",
              "      <td>1.000000</td>\n",
              "    </tr>\n",
              "    <tr>\n",
              "      <th>max</th>\n",
              "      <td>5170.000000</td>\n",
              "      <td>1.000000</td>\n",
              "    </tr>\n",
              "  </tbody>\n",
              "</table>\n",
              "</div>\n",
              "      <button class=\"colab-df-convert\" onclick=\"convertToInteractive('df-e825e076-ea57-48b0-ba09-a1261a863e0d')\"\n",
              "              title=\"Convert this dataframe to an interactive table.\"\n",
              "              style=\"display:none;\">\n",
              "        \n",
              "  <svg xmlns=\"http://www.w3.org/2000/svg\" height=\"24px\"viewBox=\"0 0 24 24\"\n",
              "       width=\"24px\">\n",
              "    <path d=\"M0 0h24v24H0V0z\" fill=\"none\"/>\n",
              "    <path d=\"M18.56 5.44l.94 2.06.94-2.06 2.06-.94-2.06-.94-.94-2.06-.94 2.06-2.06.94zm-11 1L8.5 8.5l.94-2.06 2.06-.94-2.06-.94L8.5 2.5l-.94 2.06-2.06.94zm10 10l.94 2.06.94-2.06 2.06-.94-2.06-.94-.94-2.06-.94 2.06-2.06.94z\"/><path d=\"M17.41 7.96l-1.37-1.37c-.4-.4-.92-.59-1.43-.59-.52 0-1.04.2-1.43.59L10.3 9.45l-7.72 7.72c-.78.78-.78 2.05 0 2.83L4 21.41c.39.39.9.59 1.41.59.51 0 1.02-.2 1.41-.59l7.78-7.78 2.81-2.81c.8-.78.8-2.07 0-2.86zM5.41 20L4 18.59l7.72-7.72 1.47 1.35L5.41 20z\"/>\n",
              "  </svg>\n",
              "      </button>\n",
              "      \n",
              "  <style>\n",
              "    .colab-df-container {\n",
              "      display:flex;\n",
              "      flex-wrap:wrap;\n",
              "      gap: 12px;\n",
              "    }\n",
              "\n",
              "    .colab-df-convert {\n",
              "      background-color: #E8F0FE;\n",
              "      border: none;\n",
              "      border-radius: 50%;\n",
              "      cursor: pointer;\n",
              "      display: none;\n",
              "      fill: #1967D2;\n",
              "      height: 32px;\n",
              "      padding: 0 0 0 0;\n",
              "      width: 32px;\n",
              "    }\n",
              "\n",
              "    .colab-df-convert:hover {\n",
              "      background-color: #E2EBFA;\n",
              "      box-shadow: 0px 1px 2px rgba(60, 64, 67, 0.3), 0px 1px 3px 1px rgba(60, 64, 67, 0.15);\n",
              "      fill: #174EA6;\n",
              "    }\n",
              "\n",
              "    [theme=dark] .colab-df-convert {\n",
              "      background-color: #3B4455;\n",
              "      fill: #D2E3FC;\n",
              "    }\n",
              "\n",
              "    [theme=dark] .colab-df-convert:hover {\n",
              "      background-color: #434B5C;\n",
              "      box-shadow: 0px 1px 3px 1px rgba(0, 0, 0, 0.15);\n",
              "      filter: drop-shadow(0px 1px 2px rgba(0, 0, 0, 0.3));\n",
              "      fill: #FFFFFF;\n",
              "    }\n",
              "  </style>\n",
              "\n",
              "      <script>\n",
              "        const buttonEl =\n",
              "          document.querySelector('#df-e825e076-ea57-48b0-ba09-a1261a863e0d button.colab-df-convert');\n",
              "        buttonEl.style.display =\n",
              "          google.colab.kernel.accessAllowed ? 'block' : 'none';\n",
              "\n",
              "        async function convertToInteractive(key) {\n",
              "          const element = document.querySelector('#df-e825e076-ea57-48b0-ba09-a1261a863e0d');\n",
              "          const dataTable =\n",
              "            await google.colab.kernel.invokeFunction('convertToInteractive',\n",
              "                                                     [key], {});\n",
              "          if (!dataTable) return;\n",
              "\n",
              "          const docLinkHtml = 'Like what you see? Visit the ' +\n",
              "            '<a target=\"_blank\" href=https://colab.research.google.com/notebooks/data_table.ipynb>data table notebook</a>'\n",
              "            + ' to learn more about interactive tables.';\n",
              "          element.innerHTML = '';\n",
              "          dataTable['output_type'] = 'display_data';\n",
              "          await google.colab.output.renderOutput(dataTable, element);\n",
              "          const docLink = document.createElement('div');\n",
              "          docLink.innerHTML = docLinkHtml;\n",
              "          element.appendChild(docLink);\n",
              "        }\n",
              "      </script>\n",
              "    </div>\n",
              "  </div>\n",
              "  "
            ]
          },
          "metadata": {},
          "execution_count": 12
        }
      ]
    },
    {
      "cell_type": "code",
      "source": [
        "df.hist()"
      ],
      "metadata": {
        "colab": {
          "base_uri": "https://localhost:8080/",
          "height": 487
        },
        "id": "UCyqZ_N5LJzP",
        "outputId": "e3dc7503-cdc0-4d0b-cde4-aafb0c7a402f"
      },
      "execution_count": 13,
      "outputs": [
        {
          "output_type": "execute_result",
          "data": {
            "text/plain": [
              "array([[<Axes: title={'center': 'Unnamed: 0'}>,\n",
              "        <Axes: title={'center': 'label_num'}>]], dtype=object)"
            ]
          },
          "metadata": {},
          "execution_count": 13
        },
        {
          "output_type": "display_data",
          "data": {
            "text/plain": [
              "<Figure size 640x480 with 2 Axes>"
            ],
            "image/png": "[encoded data removed]"
          },
          "metadata": {}
        }
      ]
    },
    {
      "cell_type": "markdown",
      "source": [
        "**Dropping some Unnecessary Columns**"
      ],
      "metadata": {
        "id": "WBFm6mBsLMO7"
      }
    },
    {
      "cell_type": "code",
      "source": [
        "# Dropping column\n",
        "df.drop('Unnamed: 0', axis=1 , inplace=True)\n",
        "df"
      ],
      "metadata": {
        "colab": {
          "base_uri": "https://localhost:8080/",
          "height": 423
        },
        "id": "tQAx-UUYLNYT",
        "outputId": "eac7606d-f4b9-4fef-91e1-18a6c999f904"
      },
      "execution_count": 14,
      "outputs": [
        {
          "output_type": "execute_result",
          "data": {
            "text/plain": [
              "     label                                               text  label_num\n",
              "0      ham  Subject: enron methanol ; meter # : 988291\\r\\n...          0\n",
              "1      ham  Subject: hpl nom for january 9 , 2001\\r\\n( see...          0\n",
              "2      ham  Subject: neon retreat\\r\\nho ho ho , we ' re ar...          0\n",
              "3     spam  Subject: photoshop , windows , office . cheap ...          1\n",
              "4      ham  Subject: re : indian springs\\r\\nthis deal is t...          0\n",
              "...    ...                                                ...        ...\n",
              "5166   ham  Subject: put the 10 on the ft\\r\\nthe transport...          0\n",
              "5167   ham  Subject: 3 / 4 / 2000 and following noms\\r\\nhp...          0\n",
              "5168   ham  Subject: calpine daily gas nomination\\r\\n>\\r\\n...          0\n",
              "5169   ham  Subject: industrial worksheets for august 2000...          0\n",
              "5170  spam  Subject: important online banking alert\\r\\ndea...          1\n",
              "\n",
              "[5171 rows x 3 columns]"
            ],
            "text/html": [
              "\n",
              "  <div id=\"df-a090cabe-dd0b-40f8-88b1-7e162d34dd24\">\n",
              "    <div class=\"colab-df-container\">\n",
              "      <div>\n",
              "<style scoped>\n",
              "    .dataframe tbody tr th:only-of-type {\n",
              "        vertical-align: middle;\n",
              "    }\n",
              "\n",
              "    .dataframe tbody tr th {\n",
              "        vertical-align: top;\n",
              "    }\n",
              "\n",
              "    .dataframe thead th {\n",
              "        text-align: right;\n",
              "    }\n",
              "</style>\n",
              "<table border=\"1\" class=\"dataframe\">\n",
              "  <thead>\n",
              "    <tr style=\"text-align: right;\">\n",
              "      <th></th>\n",
              "      <th>label</th>\n",
              "      <th>text</th>\n",
              "      <th>label_num</th>\n",
              "    </tr>\n",
              "  </thead>\n",
              "  <tbody>\n",
              "    <tr>\n",
              "      <th>0</th>\n",
              "      <td>ham</td>\n",
              "      <td>Subject: enron methanol ; meter # : 988291\\r\\n...</td>\n",
              "      <td>0</td>\n",
              "    </tr>\n",
              "    <tr>\n",
              "      <th>1</th>\n",
              "      <td>ham</td>\n",
              "      <td>Subject: hpl nom for january 9 , 2001\\r\\n( see...</td>\n",
              "      <td>0</td>\n",
              "    </tr>\n",
              "    <tr>\n",
              "      <th>2</th>\n",
              "      <td>ham</td>\n",
              "      <td>Subject: neon retreat\\r\\nho ho ho , we ' re ar...</td>\n",
              "      <td>0</td>\n",
              "    </tr>\n",
              "    <tr>\n",
              "      <th>3</th>\n",
              "      <td>spam</td>\n",
              "      <td>Subject: photoshop , windows , office . cheap ...</td>\n",
              "      <td>1</td>\n",
              "    </tr>\n",
              "    <tr>\n",
              "      <th>4</th>\n",
              "      <td>ham</td>\n",
              "      <td>Subject: re : indian springs\\r\\nthis deal is t...</td>\n",
              "      <td>0</td>\n",
              "    </tr>\n",
              "    <tr>\n",
              "      <th>...</th>\n",
              "      <td>...</td>\n",
              "      <td>...</td>\n",
              "      <td>...</td>\n",
              "    </tr>\n",
              "    <tr>\n",
              "      <th>5166</th>\n",
              "      <td>ham</td>\n",
              "      <td>Subject: put the 10 on the ft\\r\\nthe transport...</td>\n",
              "      <td>0</td>\n",
              "    </tr>\n",
              "    <tr>\n",
              "      <th>5167</th>\n",
              "      <td>ham</td>\n",
              "      <td>Subject: 3 / 4 / 2000 and following noms\\r\\nhp...</td>\n",
              "      <td>0</td>\n",
              "    </tr>\n",
              "    <tr>\n",
              "      <th>5168</th>\n",
              "      <td>ham</td>\n",
              "      <td>Subject: calpine daily gas nomination\\r\\n&gt;\\r\\n...</td>\n",
              "      <td>0</td>\n",
              "    </tr>\n",
              "    <tr>\n",
              "      <th>5169</th>\n",
              "      <td>ham</td>\n",
              "      <td>Subject: industrial worksheets for august 2000...</td>\n",
              "      <td>0</td>\n",
              "    </tr>\n",
              "    <tr>\n",
              "      <th>5170</th>\n",
              "      <td>spam</td>\n",
              "      <td>Subject: important online banking alert\\r\\ndea...</td>\n",
              "      <td>1</td>\n",
              "    </tr>\n",
              "  </tbody>\n",
              "</table>\n",
              "<p>5171 rows × 3 columns</p>\n",
              "</div>\n",
              "      <button class=\"colab-df-convert\" onclick=\"convertToInteractive('df-a090cabe-dd0b-40f8-88b1-7e162d34dd24')\"\n",
              "              title=\"Convert this dataframe to an interactive table.\"\n",
              "              style=\"display:none;\">\n",
              "        \n",
              "  <svg xmlns=\"http://www.w3.org/2000/svg\" height=\"24px\"viewBox=\"0 0 24 24\"\n",
              "       width=\"24px\">\n",
              "    <path d=\"M0 0h24v24H0V0z\" fill=\"none\"/>\n",
              "    <path d=\"M18.56 5.44l.94 2.06.94-2.06 2.06-.94-2.06-.94-.94-2.06-.94 2.06-2.06.94zm-11 1L8.5 8.5l.94-2.06 2.06-.94-2.06-.94L8.5 2.5l-.94 2.06-2.06.94zm10 10l.94 2.06.94-2.06 2.06-.94-2.06-.94-.94-2.06-.94 2.06-2.06.94z\"/><path d=\"M17.41 7.96l-1.37-1.37c-.4-.4-.92-.59-1.43-.59-.52 0-1.04.2-1.43.59L10.3 9.45l-7.72 7.72c-.78.78-.78 2.05 0 2.83L4 21.41c.39.39.9.59 1.41.59.51 0 1.02-.2 1.41-.59l7.78-7.78 2.81-2.81c.8-.78.8-2.07 0-2.86zM5.41 20L4 18.59l7.72-7.72 1.47 1.35L5.41 20z\"/>\n",
              "  </svg>\n",
              "      </button>\n",
              "      \n",
              "  <style>\n",
              "    .colab-df-container {\n",
              "      display:flex;\n",
              "      flex-wrap:wrap;\n",
              "      gap: 12px;\n",
              "    }\n",
              "\n",
              "    .colab-df-convert {\n",
              "      background-color: #E8F0FE;\n",
              "      border: none;\n",
              "      border-radius: 50%;\n",
              "      cursor: pointer;\n",
              "      display: none;\n",
              "      fill: #1967D2;\n",
              "      height: 32px;\n",
              "      padding: 0 0 0 0;\n",
              "      width: 32px;\n",
              "    }\n",
              "\n",
              "    .colab-df-convert:hover {\n",
              "      background-color: #E2EBFA;\n",
              "      box-shadow: 0px 1px 2px rgba(60, 64, 67, 0.3), 0px 1px 3px 1px rgba(60, 64, 67, 0.15);\n",
              "      fill: #174EA6;\n",
              "    }\n",
              "\n",
              "    [theme=dark] .colab-df-convert {\n",
              "      background-color: #3B4455;\n",
              "      fill: #D2E3FC;\n",
              "    }\n",
              "\n",
              "    [theme=dark] .colab-df-convert:hover {\n",
              "      background-color: #434B5C;\n",
              "      box-shadow: 0px 1px 3px 1px rgba(0, 0, 0, 0.15);\n",
              "      filter: drop-shadow(0px 1px 2px rgba(0, 0, 0, 0.3));\n",
              "      fill: #FFFFFF;\n",
              "    }\n",
              "  </style>\n",
              "\n",
              "      <script>\n",
              "        const buttonEl =\n",
              "          document.querySelector('#df-a090cabe-dd0b-40f8-88b1-7e162d34dd24 button.colab-df-convert');\n",
              "        buttonEl.style.display =\n",
              "          google.colab.kernel.accessAllowed ? 'block' : 'none';\n",
              "\n",
              "        async function convertToInteractive(key) {\n",
              "          const element = document.querySelector('#df-a090cabe-dd0b-40f8-88b1-7e162d34dd24');\n",
              "          const dataTable =\n",
              "            await google.colab.kernel.invokeFunction('convertToInteractive',\n",
              "                                                     [key], {});\n",
              "          if (!dataTable) return;\n",
              "\n",
              "          const docLinkHtml = 'Like what you see? Visit the ' +\n",
              "            '<a target=\"_blank\" href=https://colab.research.google.com/notebooks/data_table.ipynb>data table notebook</a>'\n",
              "            + ' to learn more about interactive tables.';\n",
              "          element.innerHTML = '';\n",
              "          dataTable['output_type'] = 'display_data';\n",
              "          await google.colab.output.renderOutput(dataTable, element);\n",
              "          const docLink = document.createElement('div');\n",
              "          docLink.innerHTML = docLinkHtml;\n",
              "          element.appendChild(docLink);\n",
              "        }\n",
              "      </script>\n",
              "    </div>\n",
              "  </div>\n",
              "  "
            ]
          },
          "metadata": {},
          "execution_count": 14
        }
      ]
    },
    {
      "cell_type": "code",
      "source": [
        "\n",
        "df['label'].value_counts()"
      ],
      "metadata": {
        "colab": {
          "base_uri": "https://localhost:8080/"
        },
        "id": "APFTBnboLPrw",
        "outputId": "1173246b-26d7-447b-c483-74bd416c29f8"
      },
      "execution_count": 15,
      "outputs": [
        {
          "output_type": "execute_result",
          "data": {
            "text/plain": [
              "ham     3672\n",
              "spam    1499\n",
              "Name: label, dtype: int64"
            ]
          },
          "metadata": {},
          "execution_count": 15
        }
      ]
    },
    {
      "cell_type": "code",
      "source": [
        "df['label_num'].value_counts()"
      ],
      "metadata": {
        "colab": {
          "base_uri": "https://localhost:8080/"
        },
        "id": "LpFSjrW4LR3W",
        "outputId": "edcf59b7-8e81-49a4-d52d-4c8fcb87fe0f"
      },
      "execution_count": 16,
      "outputs": [
        {
          "output_type": "execute_result",
          "data": {
            "text/plain": [
              "0    3672\n",
              "1    1499\n",
              "Name: label_num, dtype: int64"
            ]
          },
          "metadata": {},
          "execution_count": 16
        }
      ]
    },
    {
      "cell_type": "code",
      "source": [
        "# Dropping 'label_num' Column\n",
        "del df['label_num']\n",
        "df"
      ],
      "metadata": {
        "colab": {
          "base_uri": "https://localhost:8080/",
          "height": 423
        },
        "id": "NhRwNFG7LTO0",
        "outputId": "02277be7-c464-4d84-97f2-bf618272dc2d"
      },
      "execution_count": 17,
      "outputs": [
        {
          "output_type": "execute_result",
          "data": {
            "text/plain": [
              "     label                                               text\n",
              "0      ham  Subject: enron methanol ; meter # : 988291\\r\\n...\n",
              "1      ham  Subject: hpl nom for january 9 , 2001\\r\\n( see...\n",
              "2      ham  Subject: neon retreat\\r\\nho ho ho , we ' re ar...\n",
              "3     spam  Subject: photoshop , windows , office . cheap ...\n",
              "4      ham  Subject: re : indian springs\\r\\nthis deal is t...\n",
              "...    ...                                                ...\n",
              "5166   ham  Subject: put the 10 on the ft\\r\\nthe transport...\n",
              "5167   ham  Subject: 3 / 4 / 2000 and following noms\\r\\nhp...\n",
              "5168   ham  Subject: calpine daily gas nomination\\r\\n>\\r\\n...\n",
              "5169   ham  Subject: industrial worksheets for august 2000...\n",
              "5170  spam  Subject: important online banking alert\\r\\ndea...\n",
              "\n",
              "[5171 rows x 2 columns]"
            ],
            "text/html": [
              "\n",
              "  <div id=\"df-45bdd12e-d9d5-476c-b41e-b06aacf23364\">\n",
              "    <div class=\"colab-df-container\">\n",
              "      <div>\n",
              "<style scoped>\n",
              "    .dataframe tbody tr th:only-of-type {\n",
              "        vertical-align: middle;\n",
              "    }\n",
              "\n",
              "    .dataframe tbody tr th {\n",
              "        vertical-align: top;\n",
              "    }\n",
              "\n",
              "    .dataframe thead th {\n",
              "        text-align: right;\n",
              "    }\n",
              "</style>\n",
              "<table border=\"1\" class=\"dataframe\">\n",
              "  <thead>\n",
              "    <tr style=\"text-align: right;\">\n",
              "      <th></th>\n",
              "      <th>label</th>\n",
              "      <th>text</th>\n",
              "    </tr>\n",
              "  </thead>\n",
              "  <tbody>\n",
              "    <tr>\n",
              "      <th>0</th>\n",
              "      <td>ham</td>\n",
              "      <td>Subject: enron methanol ; meter # : 988291\\r\\n...</td>\n",
              "    </tr>\n",
              "    <tr>\n",
              "      <th>1</th>\n",
              "      <td>ham</td>\n",
              "      <td>Subject: hpl nom for january 9 , 2001\\r\\n( see...</td>\n",
              "    </tr>\n",
              "    <tr>\n",
              "      <th>2</th>\n",
              "      <td>ham</td>\n",
              "      <td>Subject: neon retreat\\r\\nho ho ho , we ' re ar...</td>\n",
              "    </tr>\n",
              "    <tr>\n",
              "      <th>3</th>\n",
              "      <td>spam</td>\n",
              "      <td>Subject: photoshop , windows , office . cheap ...</td>\n",
              "    </tr>\n",
              "    <tr>\n",
              "      <th>4</th>\n",
              "      <td>ham</td>\n",
              "      <td>Subject: re : indian springs\\r\\nthis deal is t...</td>\n",
              "    </tr>\n",
              "    <tr>\n",
              "      <th>...</th>\n",
              "      <td>...</td>\n",
              "      <td>...</td>\n",
              "    </tr>\n",
              "    <tr>\n",
              "      <th>5166</th>\n",
              "      <td>ham</td>\n",
              "      <td>Subject: put the 10 on the ft\\r\\nthe transport...</td>\n",
              "    </tr>\n",
              "    <tr>\n",
              "      <th>5167</th>\n",
              "      <td>ham</td>\n",
              "      <td>Subject: 3 / 4 / 2000 and following noms\\r\\nhp...</td>\n",
              "    </tr>\n",
              "    <tr>\n",
              "      <th>5168</th>\n",
              "      <td>ham</td>\n",
              "      <td>Subject: calpine daily gas nomination\\r\\n&gt;\\r\\n...</td>\n",
              "    </tr>\n",
              "    <tr>\n",
              "      <th>5169</th>\n",
              "      <td>ham</td>\n",
              "      <td>Subject: industrial worksheets for august 2000...</td>\n",
              "    </tr>\n",
              "    <tr>\n",
              "      <th>5170</th>\n",
              "      <td>spam</td>\n",
              "      <td>Subject: important online banking alert\\r\\ndea...</td>\n",
              "    </tr>\n",
              "  </tbody>\n",
              "</table>\n",
              "<p>5171 rows × 2 columns</p>\n",
              "</div>\n",
              "      <button class=\"colab-df-convert\" onclick=\"convertToInteractive('df-45bdd12e-d9d5-476c-b41e-b06aacf23364')\"\n",
              "              title=\"Convert this dataframe to an interactive table.\"\n",
              "              style=\"display:none;\">\n",
              "        \n",
              "  <svg xmlns=\"http://www.w3.org/2000/svg\" height=\"24px\"viewBox=\"0 0 24 24\"\n",
              "       width=\"24px\">\n",
              "    <path d=\"M0 0h24v24H0V0z\" fill=\"none\"/>\n",
              "    <path d=\"M18.56 5.44l.94 2.06.94-2.06 2.06-.94-2.06-.94-.94-2.06-.94 2.06-2.06.94zm-11 1L8.5 8.5l.94-2.06 2.06-.94-2.06-.94L8.5 2.5l-.94 2.06-2.06.94zm10 10l.94 2.06.94-2.06 2.06-.94-2.06-.94-.94-2.06-.94 2.06-2.06.94z\"/><path d=\"M17.41 7.96l-1.37-1.37c-.4-.4-.92-.59-1.43-.59-.52 0-1.04.2-1.43.59L10.3 9.45l-7.72 7.72c-.78.78-.78 2.05 0 2.83L4 21.41c.39.39.9.59 1.41.59.51 0 1.02-.2 1.41-.59l7.78-7.78 2.81-2.81c.8-.78.8-2.07 0-2.86zM5.41 20L4 18.59l7.72-7.72 1.47 1.35L5.41 20z\"/>\n",
              "  </svg>\n",
              "      </button>\n",
              "      \n",
              "  <style>\n",
              "    .colab-df-container {\n",
              "      display:flex;\n",
              "      flex-wrap:wrap;\n",
              "      gap: 12px;\n",
              "    }\n",
              "\n",
              "    .colab-df-convert {\n",
              "      background-color: #E8F0FE;\n",
              "      border: none;\n",
              "      border-radius: 50%;\n",
              "      cursor: pointer;\n",
              "      display: none;\n",
              "      fill: #1967D2;\n",
              "      height: 32px;\n",
              "      padding: 0 0 0 0;\n",
              "      width: 32px;\n",
              "    }\n",
              "\n",
              "    .colab-df-convert:hover {\n",
              "      background-color: #E2EBFA;\n",
              "      box-shadow: 0px 1px 2px rgba(60, 64, 67, 0.3), 0px 1px 3px 1px rgba(60, 64, 67, 0.15);\n",
              "      fill: #174EA6;\n",
              "    }\n",
              "\n",
              "    [theme=dark] .colab-df-convert {\n",
              "      background-color: #3B4455;\n",
              "      fill: #D2E3FC;\n",
              "    }\n",
              "\n",
              "    [theme=dark] .colab-df-convert:hover {\n",
              "      background-color: #434B5C;\n",
              "      box-shadow: 0px 1px 3px 1px rgba(0, 0, 0, 0.15);\n",
              "      filter: drop-shadow(0px 1px 2px rgba(0, 0, 0, 0.3));\n",
              "      fill: #FFFFFF;\n",
              "    }\n",
              "  </style>\n",
              "\n",
              "      <script>\n",
              "        const buttonEl =\n",
              "          document.querySelector('#df-45bdd12e-d9d5-476c-b41e-b06aacf23364 button.colab-df-convert');\n",
              "        buttonEl.style.display =\n",
              "          google.colab.kernel.accessAllowed ? 'block' : 'none';\n",
              "\n",
              "        async function convertToInteractive(key) {\n",
              "          const element = document.querySelector('#df-45bdd12e-d9d5-476c-b41e-b06aacf23364');\n",
              "          const dataTable =\n",
              "            await google.colab.kernel.invokeFunction('convertToInteractive',\n",
              "                                                     [key], {});\n",
              "          if (!dataTable) return;\n",
              "\n",
              "          const docLinkHtml = 'Like what you see? Visit the ' +\n",
              "            '<a target=\"_blank\" href=https://colab.research.google.com/notebooks/data_table.ipynb>data table notebook</a>'\n",
              "            + ' to learn more about interactive tables.';\n",
              "          element.innerHTML = '';\n",
              "          dataTable['output_type'] = 'display_data';\n",
              "          await google.colab.output.renderOutput(dataTable, element);\n",
              "          const docLink = document.createElement('div');\n",
              "          docLink.innerHTML = docLinkHtml;\n",
              "          element.appendChild(docLink);\n",
              "        }\n",
              "      </script>\n",
              "    </div>\n",
              "  </div>\n",
              "  "
            ]
          },
          "metadata": {},
          "execution_count": 17
        }
      ]
    },
    {
      "cell_type": "markdown",
      "source": [
        "**Renaming the columns**"
      ],
      "metadata": {
        "id": "oj9X36hhLVpQ"
      }
    },
    {
      "cell_type": "code",
      "source": [
        "# Renaming Column Names\n",
        "df.columns = ['Category','Subject']\n",
        "\n",
        "# checking for column names\n",
        "df.columns"
      ],
      "metadata": {
        "colab": {
          "base_uri": "https://localhost:8080/"
        },
        "id": "fwuT3caXLWqq",
        "outputId": "9da0fa3c-927c-4cb2-ab36-e63446e16167"
      },
      "execution_count": 18,
      "outputs": [
        {
          "output_type": "execute_result",
          "data": {
            "text/plain": [
              "Index(['Category', 'Subject'], dtype='object')"
            ]
          },
          "metadata": {},
          "execution_count": 18
        }
      ]
    },
    {
      "cell_type": "code",
      "source": [
        "# Showing Unique Values of Category column\n",
        "df['Category'].unique()"
      ],
      "metadata": {
        "colab": {
          "base_uri": "https://localhost:8080/"
        },
        "id": "N30sUd_ALZrg",
        "outputId": "90d95b14-5408-4e17-9fe9-7fdb572c345b"
      },
      "execution_count": 19,
      "outputs": [
        {
          "output_type": "execute_result",
          "data": {
            "text/plain": [
              "array(['ham', 'spam'], dtype=object)"
            ]
          },
          "metadata": {},
          "execution_count": 19
        }
      ]
    },
    {
      "cell_type": "code",
      "source": [
        "# Plotting Countplot for Category Column\n",
        "sns.countplot(data = df , x = 'Category')\n",
        "plt.show()"
      ],
      "metadata": {
        "colab": {
          "base_uri": "https://localhost:8080/",
          "height": 449
        },
        "id": "xsiibVHNLbPc",
        "outputId": "06392810-10cb-43a1-f9b0-8cc1e11a7555"
      },
      "execution_count": 20,
      "outputs": [
        {
          "output_type": "display_data",
          "data": {
            "text/plain": [
              "<Figure size 640x480 with 1 Axes>"
            ],
            "image/png": "[encoded data removed]"
          },
          "metadata": {}
        }
      ]
    },
    {
      "cell_type": "markdown",
      "source": [
        "This Plot Clearly Shows that most of the mails are ham which means they are not spam mails."
      ],
      "metadata": {
        "id": "X3PcNfs7LkO4"
      }
    },
    {
      "cell_type": "code",
      "source": [
        "# Checking for Duplicated Values\n",
        "df.duplicated().sum()"
      ],
      "metadata": {
        "colab": {
          "base_uri": "https://localhost:8080/"
        },
        "id": "MIRV6I-PLkgf",
        "outputId": "69af2a8a-8774-45b5-9ca0-0e127a99beb5"
      },
      "execution_count": 21,
      "outputs": [
        {
          "output_type": "execute_result",
          "data": {
            "text/plain": [
              "178"
            ]
          },
          "metadata": {},
          "execution_count": 21
        }
      ]
    },
    {
      "cell_type": "code",
      "source": [
        "# Dropping Duplicated Values\n",
        "df.drop_duplicates()"
      ],
      "metadata": {
        "colab": {
          "base_uri": "https://localhost:8080/",
          "height": 423
        },
        "id": "qmsJrQ47LqXc",
        "outputId": "9a3155e0-c559-4056-d1c6-a0a429f53477"
      },
      "execution_count": 22,
      "outputs": [
        {
          "output_type": "execute_result",
          "data": {
            "text/plain": [
              "     Category                                            Subject\n",
              "0         ham  Subject: enron methanol ; meter # : 988291\\r\\n...\n",
              "1         ham  Subject: hpl nom for january 9 , 2001\\r\\n( see...\n",
              "2         ham  Subject: neon retreat\\r\\nho ho ho , we ' re ar...\n",
              "3        spam  Subject: photoshop , windows , office . cheap ...\n",
              "4         ham  Subject: re : indian springs\\r\\nthis deal is t...\n",
              "...       ...                                                ...\n",
              "5165      ham  Subject: fw : crosstex energy , driscoll ranch...\n",
              "5166      ham  Subject: put the 10 on the ft\\r\\nthe transport...\n",
              "5167      ham  Subject: 3 / 4 / 2000 and following noms\\r\\nhp...\n",
              "5169      ham  Subject: industrial worksheets for august 2000...\n",
              "5170     spam  Subject: important online banking alert\\r\\ndea...\n",
              "\n",
              "[4993 rows x 2 columns]"
            ],
            "text/html": [
              "\n",
              "  <div id=\"df-bc5673ff-f218-4e21-ae48-965788b5f02f\">\n",
              "    <div class=\"colab-df-container\">\n",
              "      <div>\n",
              "<style scoped>\n",
              "    .dataframe tbody tr th:only-of-type {\n",
              "        vertical-align: middle;\n",
              "    }\n",
              "\n",
              "    .dataframe tbody tr th {\n",
              "        vertical-align: top;\n",
              "    }\n",
              "\n",
              "    .dataframe thead th {\n",
              "        text-align: right;\n",
              "    }\n",
              "</style>\n",
              "<table border=\"1\" class=\"dataframe\">\n",
              "  <thead>\n",
              "    <tr style=\"text-align: right;\">\n",
              "      <th></th>\n",
              "      <th>Category</th>\n",
              "      <th>Subject</th>\n",
              "    </tr>\n",
              "  </thead>\n",
              "  <tbody>\n",
              "    <tr>\n",
              "      <th>0</th>\n",
              "      <td>ham</td>\n",
              "      <td>Subject: enron methanol ; meter # : 988291\\r\\n...</td>\n",
              "    </tr>\n",
              "    <tr>\n",
              "      <th>1</th>\n",
              "      <td>ham</td>\n",
              "      <td>Subject: hpl nom for january 9 , 2001\\r\\n( see...</td>\n",
              "    </tr>\n",
              "    <tr>\n",
              "      <th>2</th>\n",
              "      <td>ham</td>\n",
              "      <td>Subject: neon retreat\\r\\nho ho ho , we ' re ar...</td>\n",
              "    </tr>\n",
              "    <tr>\n",
              "      <th>3</th>\n",
              "      <td>spam</td>\n",
              "      <td>Subject: photoshop , windows , office . cheap ...</td>\n",
              "    </tr>\n",
              "    <tr>\n",
              "      <th>4</th>\n",
              "      <td>ham</td>\n",
              "      <td>Subject: re : indian springs\\r\\nthis deal is t...</td>\n",
              "    </tr>\n",
              "    <tr>\n",
              "      <th>...</th>\n",
              "      <td>...</td>\n",
              "      <td>...</td>\n",
              "    </tr>\n",
              "    <tr>\n",
              "      <th>5165</th>\n",
              "      <td>ham</td>\n",
              "      <td>Subject: fw : crosstex energy , driscoll ranch...</td>\n",
              "    </tr>\n",
              "    <tr>\n",
              "      <th>5166</th>\n",
              "      <td>ham</td>\n",
              "      <td>Subject: put the 10 on the ft\\r\\nthe transport...</td>\n",
              "    </tr>\n",
              "    <tr>\n",
              "      <th>5167</th>\n",
              "      <td>ham</td>\n",
              "      <td>Subject: 3 / 4 / 2000 and following noms\\r\\nhp...</td>\n",
              "    </tr>\n",
              "    <tr>\n",
              "      <th>5169</th>\n",
              "      <td>ham</td>\n",
              "      <td>Subject: industrial worksheets for august 2000...</td>\n",
              "    </tr>\n",
              "    <tr>\n",
              "      <th>5170</th>\n",
              "      <td>spam</td>\n",
              "      <td>Subject: important online banking alert\\r\\ndea...</td>\n",
              "    </tr>\n",
              "  </tbody>\n",
              "</table>\n",
              "<p>4993 rows × 2 columns</p>\n",
              "</div>\n",
              "      <button class=\"colab-df-convert\" onclick=\"convertToInteractive('df-bc5673ff-f218-4e21-ae48-965788b5f02f')\"\n",
              "              title=\"Convert this dataframe to an interactive table.\"\n",
              "              style=\"display:none;\">\n",
              "        \n",
              "  <svg xmlns=\"http://www.w3.org/2000/svg\" height=\"24px\"viewBox=\"0 0 24 24\"\n",
              "       width=\"24px\">\n",
              "    <path d=\"M0 0h24v24H0V0z\" fill=\"none\"/>\n",
              "    <path d=\"M18.56 5.44l.94 2.06.94-2.06 2.06-.94-2.06-.94-.94-2.06-.94 2.06-2.06.94zm-11 1L8.5 8.5l.94-2.06 2.06-.94-2.06-.94L8.5 2.5l-.94 2.06-2.06.94zm10 10l.94 2.06.94-2.06 2.06-.94-2.06-.94-.94-2.06-.94 2.06-2.06.94z\"/><path d=\"M17.41 7.96l-1.37-1.37c-.4-.4-.92-.59-1.43-.59-.52 0-1.04.2-1.43.59L10.3 9.45l-7.72 7.72c-.78.78-.78 2.05 0 2.83L4 21.41c.39.39.9.59 1.41.59.51 0 1.02-.2 1.41-.59l7.78-7.78 2.81-2.81c.8-.78.8-2.07 0-2.86zM5.41 20L4 18.59l7.72-7.72 1.47 1.35L5.41 20z\"/>\n",
              "  </svg>\n",
              "      </button>\n",
              "      \n",
              "  <style>\n",
              "    .colab-df-container {\n",
              "      display:flex;\n",
              "      flex-wrap:wrap;\n",
              "      gap: 12px;\n",
              "    }\n",
              "\n",
              "    .colab-df-convert {\n",
              "      background-color: #E8F0FE;\n",
              "      border: none;\n",
              "      border-radius: 50%;\n",
              "      cursor: pointer;\n",
              "      display: none;\n",
              "      fill: #1967D2;\n",
              "      height: 32px;\n",
              "      padding: 0 0 0 0;\n",
              "      width: 32px;\n",
              "    }\n",
              "\n",
              "    .colab-df-convert:hover {\n",
              "      background-color: #E2EBFA;\n",
              "      box-shadow: 0px 1px 2px rgba(60, 64, 67, 0.3), 0px 1px 3px 1px rgba(60, 64, 67, 0.15);\n",
              "      fill: #174EA6;\n",
              "    }\n",
              "\n",
              "    [theme=dark] .colab-df-convert {\n",
              "      background-color: #3B4455;\n",
              "      fill: #D2E3FC;\n",
              "    }\n",
              "\n",
              "    [theme=dark] .colab-df-convert:hover {\n",
              "      background-color: #434B5C;\n",
              "      box-shadow: 0px 1px 3px 1px rgba(0, 0, 0, 0.15);\n",
              "      filter: drop-shadow(0px 1px 2px rgba(0, 0, 0, 0.3));\n",
              "      fill: #FFFFFF;\n",
              "    }\n",
              "  </style>\n",
              "\n",
              "      <script>\n",
              "        const buttonEl =\n",
              "          document.querySelector('#df-bc5673ff-f218-4e21-ae48-965788b5f02f button.colab-df-convert');\n",
              "        buttonEl.style.display =\n",
              "          google.colab.kernel.accessAllowed ? 'block' : 'none';\n",
              "\n",
              "        async function convertToInteractive(key) {\n",
              "          const element = document.querySelector('#df-bc5673ff-f218-4e21-ae48-965788b5f02f');\n",
              "          const dataTable =\n",
              "            await google.colab.kernel.invokeFunction('convertToInteractive',\n",
              "                                                     [key], {});\n",
              "          if (!dataTable) return;\n",
              "\n",
              "          const docLinkHtml = 'Like what you see? Visit the ' +\n",
              "            '<a target=\"_blank\" href=https://colab.research.google.com/notebooks/data_table.ipynb>data table notebook</a>'\n",
              "            + ' to learn more about interactive tables.';\n",
              "          element.innerHTML = '';\n",
              "          dataTable['output_type'] = 'display_data';\n",
              "          await google.colab.output.renderOutput(dataTable, element);\n",
              "          const docLink = document.createElement('div');\n",
              "          docLink.innerHTML = docLinkHtml;\n",
              "          element.appendChild(docLink);\n",
              "        }\n",
              "      </script>\n",
              "    </div>\n",
              "  </div>\n",
              "  "
            ]
          },
          "metadata": {},
          "execution_count": 22
        }
      ]
    },
    {
      "cell_type": "markdown",
      "source": [
        "**Data Cleaning**"
      ],
      "metadata": {
        "id": "wpcjgUVBLtpf"
      }
    },
    {
      "cell_type": "markdown",
      "source": [
        "**1. Category Column**"
      ],
      "metadata": {
        "id": "Iv9lWBbyLw-F"
      }
    },
    {
      "cell_type": "markdown",
      "source": [
        "a. ham indicates emails that are not spam\n",
        "\n",
        "b. spam indicates emails that are spam\n",
        "\n",
        "So we have 2 types of category which are spam and ham so we can use logistic regression to classify whether emails are spam or not."
      ],
      "metadata": {
        "id": "g6C4FYQkLzbx"
      }
    },
    {
      "cell_type": "code",
      "source": [
        "# labelling ham with 0 and spam with 1 for linear regression\n",
        "df.loc[df['Category'] == 'spam', 'Category',] = 0\n",
        "df.loc[df['Category'] == 'ham', 'Category',] = 1\n",
        "df"
      ],
      "metadata": {
        "colab": {
          "base_uri": "https://localhost:8080/",
          "height": 423
        },
        "id": "LYFYycZvLv5E",
        "outputId": "d990dc33-c1a1-4081-dfbb-872e7861ef37"
      },
      "execution_count": 23,
      "outputs": [
        {
          "output_type": "execute_result",
          "data": {
            "text/plain": [
              "     Category                                            Subject\n",
              "0           1  Subject: enron methanol ; meter # : 988291\\r\\n...\n",
              "1           1  Subject: hpl nom for january 9 , 2001\\r\\n( see...\n",
              "2           1  Subject: neon retreat\\r\\nho ho ho , we ' re ar...\n",
              "3           0  Subject: photoshop , windows , office . cheap ...\n",
              "4           1  Subject: re : indian springs\\r\\nthis deal is t...\n",
              "...       ...                                                ...\n",
              "5166        1  Subject: put the 10 on the ft\\r\\nthe transport...\n",
              "5167        1  Subject: 3 / 4 / 2000 and following noms\\r\\nhp...\n",
              "5168        1  Subject: calpine daily gas nomination\\r\\n>\\r\\n...\n",
              "5169        1  Subject: industrial worksheets for august 2000...\n",
              "5170        0  Subject: important online banking alert\\r\\ndea...\n",
              "\n",
              "[5171 rows x 2 columns]"
            ],
            "text/html": [
              "\n",
              "  <div id=\"df-c57af3e1-8b42-47b4-943f-7b7988afbf20\">\n",
              "    <div class=\"colab-df-container\">\n",
              "      <div>\n",
              "<style scoped>\n",
              "    .dataframe tbody tr th:only-of-type {\n",
              "        vertical-align: middle;\n",
              "    }\n",
              "\n",
              "    .dataframe tbody tr th {\n",
              "        vertical-align: top;\n",
              "    }\n",
              "\n",
              "    .dataframe thead th {\n",
              "        text-align: right;\n",
              "    }\n",
              "</style>\n",
              "<table border=\"1\" class=\"dataframe\">\n",
              "  <thead>\n",
              "    <tr style=\"text-align: right;\">\n",
              "      <th></th>\n",
              "      <th>Category</th>\n",
              "      <th>Subject</th>\n",
              "    </tr>\n",
              "  </thead>\n",
              "  <tbody>\n",
              "    <tr>\n",
              "      <th>0</th>\n",
              "      <td>1</td>\n",
              "      <td>Subject: enron methanol ; meter # : 988291\\r\\n...</td>\n",
              "    </tr>\n",
              "    <tr>\n",
              "      <th>1</th>\n",
              "      <td>1</td>\n",
              "      <td>Subject: hpl nom for january 9 , 2001\\r\\n( see...</td>\n",
              "    </tr>\n",
              "    <tr>\n",
              "      <th>2</th>\n",
              "      <td>1</td>\n",
              "      <td>Subject: neon retreat\\r\\nho ho ho , we ' re ar...</td>\n",
              "    </tr>\n",
              "    <tr>\n",
              "      <th>3</th>\n",
              "      <td>0</td>\n",
              "      <td>Subject: photoshop , windows , office . cheap ...</td>\n",
              "    </tr>\n",
              "    <tr>\n",
              "      <th>4</th>\n",
              "      <td>1</td>\n",
              "      <td>Subject: re : indian springs\\r\\nthis deal is t...</td>\n",
              "    </tr>\n",
              "    <tr>\n",
              "      <th>...</th>\n",
              "      <td>...</td>\n",
              "      <td>...</td>\n",
              "    </tr>\n",
              "    <tr>\n",
              "      <th>5166</th>\n",
              "      <td>1</td>\n",
              "      <td>Subject: put the 10 on the ft\\r\\nthe transport...</td>\n",
              "    </tr>\n",
              "    <tr>\n",
              "      <th>5167</th>\n",
              "      <td>1</td>\n",
              "      <td>Subject: 3 / 4 / 2000 and following noms\\r\\nhp...</td>\n",
              "    </tr>\n",
              "    <tr>\n",
              "      <th>5168</th>\n",
              "      <td>1</td>\n",
              "      <td>Subject: calpine daily gas nomination\\r\\n&gt;\\r\\n...</td>\n",
              "    </tr>\n",
              "    <tr>\n",
              "      <th>5169</th>\n",
              "      <td>1</td>\n",
              "      <td>Subject: industrial worksheets for august 2000...</td>\n",
              "    </tr>\n",
              "    <tr>\n",
              "      <th>5170</th>\n",
              "      <td>0</td>\n",
              "      <td>Subject: important online banking alert\\r\\ndea...</td>\n",
              "    </tr>\n",
              "  </tbody>\n",
              "</table>\n",
              "<p>5171 rows × 2 columns</p>\n",
              "</div>\n",
              "      <button class=\"colab-df-convert\" onclick=\"convertToInteractive('df-c57af3e1-8b42-47b4-943f-7b7988afbf20')\"\n",
              "              title=\"Convert this dataframe to an interactive table.\"\n",
              "              style=\"display:none;\">\n",
              "        \n",
              "  <svg xmlns=\"http://www.w3.org/2000/svg\" height=\"24px\"viewBox=\"0 0 24 24\"\n",
              "       width=\"24px\">\n",
              "    <path d=\"M0 0h24v24H0V0z\" fill=\"none\"/>\n",
              "    <path d=\"M18.56 5.44l.94 2.06.94-2.06 2.06-.94-2.06-.94-.94-2.06-.94 2.06-2.06.94zm-11 1L8.5 8.5l.94-2.06 2.06-.94-2.06-.94L8.5 2.5l-.94 2.06-2.06.94zm10 10l.94 2.06.94-2.06 2.06-.94-2.06-.94-.94-2.06-.94 2.06-2.06.94z\"/><path d=\"M17.41 7.96l-1.37-1.37c-.4-.4-.92-.59-1.43-.59-.52 0-1.04.2-1.43.59L10.3 9.45l-7.72 7.72c-.78.78-.78 2.05 0 2.83L4 21.41c.39.39.9.59 1.41.59.51 0 1.02-.2 1.41-.59l7.78-7.78 2.81-2.81c.8-.78.8-2.07 0-2.86zM5.41 20L4 18.59l7.72-7.72 1.47 1.35L5.41 20z\"/>\n",
              "  </svg>\n",
              "      </button>\n",
              "      \n",
              "  <style>\n",
              "    .colab-df-container {\n",
              "      display:flex;\n",
              "      flex-wrap:wrap;\n",
              "      gap: 12px;\n",
              "    }\n",
              "\n",
              "    .colab-df-convert {\n",
              "      background-color: #E8F0FE;\n",
              "      border: none;\n",
              "      border-radius: 50%;\n",
              "      cursor: pointer;\n",
              "      display: none;\n",
              "      fill: #1967D2;\n",
              "      height: 32px;\n",
              "      padding: 0 0 0 0;\n",
              "      width: 32px;\n",
              "    }\n",
              "\n",
              "    .colab-df-convert:hover {\n",
              "      background-color: #E2EBFA;\n",
              "      box-shadow: 0px 1px 2px rgba(60, 64, 67, 0.3), 0px 1px 3px 1px rgba(60, 64, 67, 0.15);\n",
              "      fill: #174EA6;\n",
              "    }\n",
              "\n",
              "    [theme=dark] .colab-df-convert {\n",
              "      background-color: #3B4455;\n",
              "      fill: #D2E3FC;\n",
              "    }\n",
              "\n",
              "    [theme=dark] .colab-df-convert:hover {\n",
              "      background-color: #434B5C;\n",
              "      box-shadow: 0px 1px 3px 1px rgba(0, 0, 0, 0.15);\n",
              "      filter: drop-shadow(0px 1px 2px rgba(0, 0, 0, 0.3));\n",
              "      fill: #FFFFFF;\n",
              "    }\n",
              "  </style>\n",
              "\n",
              "      <script>\n",
              "        const buttonEl =\n",
              "          document.querySelector('#df-c57af3e1-8b42-47b4-943f-7b7988afbf20 button.colab-df-convert');\n",
              "        buttonEl.style.display =\n",
              "          google.colab.kernel.accessAllowed ? 'block' : 'none';\n",
              "\n",
              "        async function convertToInteractive(key) {\n",
              "          const element = document.querySelector('#df-c57af3e1-8b42-47b4-943f-7b7988afbf20');\n",
              "          const dataTable =\n",
              "            await google.colab.kernel.invokeFunction('convertToInteractive',\n",
              "                                                     [key], {});\n",
              "          if (!dataTable) return;\n",
              "\n",
              "          const docLinkHtml = 'Like what you see? Visit the ' +\n",
              "            '<a target=\"_blank\" href=https://colab.research.google.com/notebooks/data_table.ipynb>data table notebook</a>'\n",
              "            + ' to learn more about interactive tables.';\n",
              "          element.innerHTML = '';\n",
              "          dataTable['output_type'] = 'display_data';\n",
              "          await google.colab.output.renderOutput(dataTable, element);\n",
              "          const docLink = document.createElement('div');\n",
              "          docLink.innerHTML = docLinkHtml;\n",
              "          element.appendChild(docLink);\n",
              "        }\n",
              "      </script>\n",
              "    </div>\n",
              "  </div>\n",
              "  "
            ]
          },
          "metadata": {},
          "execution_count": 23
        }
      ]
    },
    {
      "cell_type": "code",
      "source": [
        "# Plotting barplot for Count of Category Column\n",
        "df['Category'].value_counts().plot(kind='bar',color=('y','r'))\n",
        "plt.show()"
      ],
      "metadata": {
        "colab": {
          "base_uri": "https://localhost:8080/",
          "height": 425
        },
        "id": "_7IGJYrML26P",
        "outputId": "e2e53f41-9224-44c6-bae5-eab60b4d095e"
      },
      "execution_count": 24,
      "outputs": [
        {
          "output_type": "display_data",
          "data": {
            "text/plain": [
              "<Figure size 640x480 with 1 Axes>"
            ],
            "image/png": "[encoded data removed]"
          },
          "metadata": {}
        }
      ]
    },
    {
      "cell_type": "markdown",
      "source": [
        "**2. Subject Column**"
      ],
      "metadata": {
        "id": "bfQDLmUGL9ls"
      }
    },
    {
      "cell_type": "code",
      "source": [
        "# Showing first row of Subject column \n",
        "df['Subject'][0]"
      ],
      "metadata": {
        "colab": {
          "base_uri": "https://localhost:8080/",
          "height": 70
        },
        "id": "v7Do1CJHL_CA",
        "outputId": "4f31b103-b6d6-4e3b-ca0a-c71d79b6a85a"
      },
      "execution_count": 25,
      "outputs": [
        {
          "output_type": "execute_result",
          "data": {
            "text/plain": [
              "\"Subject: enron methanol ; meter # : 988291\\r\\nthis is a follow up to the note i gave you on monday , 4 / 3 / 00 { preliminary\\r\\nflow data provided by daren } .\\r\\nplease override pop ' s daily volume { presently zero } to reflect daily\\r\\nactivity you can obtain from gas control .\\r\\nthis change is needed asap for economics purposes .\""
            ],
            "application/vnd.google.colaboratory.intrinsic+json": {
              "type": "string"
            }
          },
          "metadata": {},
          "execution_count": 25
        }
      ]
    },
    {
      "cell_type": "code",
      "source": [
        "from nltk.tokenize import RegexpTokenizer"
      ],
      "metadata": {
        "id": "PX2GMUknMAji"
      },
      "execution_count": 26,
      "outputs": []
    },
    {
      "cell_type": "code",
      "source": [
        "def clean_str(string, reg = RegexpTokenizer(r'[a-z]+')):\n",
        "    string = string.lower() #converting string into lowercase\n",
        "    tokens = reg.tokenize(string) # tokenize the string on the defined pattern\n",
        "    return \" \".join(tokens) # joining the tokens with single space character and returning the output"
      ],
      "metadata": {
        "id": "TJ0Sau2dMC35"
      },
      "execution_count": 27,
      "outputs": []
    },
    {
      "cell_type": "code",
      "source": [
        "# Applying lambda function for changing the data of 'Subject' Column\n",
        "df['Subject'] = df['Subject'].apply(lambda string: clean_str(string))"
      ],
      "metadata": {
        "id": "bx_uZ170METD"
      },
      "execution_count": 28,
      "outputs": []
    },
    {
      "cell_type": "code",
      "source": [
        "# Showing first row of Subject Column after cleaning\n",
        "df['Subject'][0]"
      ],
      "metadata": {
        "colab": {
          "base_uri": "https://localhost:8080/",
          "height": 70
        },
        "id": "LUyAyY7QMFpC",
        "outputId": "c8626247-2409-402c-c758-34182d7b0514"
      },
      "execution_count": 29,
      "outputs": [
        {
          "output_type": "execute_result",
          "data": {
            "text/plain": [
              "'subject enron methanol meter this is a follow up to the note i gave you on monday preliminary flow data provided by daren please override pop s daily volume presently zero to reflect daily activity you can obtain from gas control this change is needed asap for economics purposes'"
            ],
            "application/vnd.google.colaboratory.intrinsic+json": {
              "type": "string"
            }
          },
          "metadata": {},
          "execution_count": 29
        }
      ]
    },
    {
      "cell_type": "code",
      "source": [
        "# checking the data after cleaning\n",
        "df.head()"
      ],
      "metadata": {
        "colab": {
          "base_uri": "https://localhost:8080/",
          "height": 206
        },
        "id": "t0A1fjGBMHNl",
        "outputId": "b6f53bb4-f121-427e-c674-fbca517f1178"
      },
      "execution_count": 30,
      "outputs": [
        {
          "output_type": "execute_result",
          "data": {
            "text/plain": [
              "  Category                                            Subject\n",
              "0        1  subject enron methanol meter this is a follow ...\n",
              "1        1  subject hpl nom for january see attached file ...\n",
              "2        1  subject neon retreat ho ho ho we re around to ...\n",
              "3        0  subject photoshop windows office cheap main tr...\n",
              "4        1  subject re indian springs this deal is to book..."
            ],
            "text/html": [
              "\n",
              "  <div id=\"df-9eb379bd-43aa-4c63-89d8-16b234e1e546\">\n",
              "    <div class=\"colab-df-container\">\n",
              "      <div>\n",
              "<style scoped>\n",
              "    .dataframe tbody tr th:only-of-type {\n",
              "        vertical-align: middle;\n",
              "    }\n",
              "\n",
              "    .dataframe tbody tr th {\n",
              "        vertical-align: top;\n",
              "    }\n",
              "\n",
              "    .dataframe thead th {\n",
              "        text-align: right;\n",
              "    }\n",
              "</style>\n",
              "<table border=\"1\" class=\"dataframe\">\n",
              "  <thead>\n",
              "    <tr style=\"text-align: right;\">\n",
              "      <th></th>\n",
              "      <th>Category</th>\n",
              "      <th>Subject</th>\n",
              "    </tr>\n",
              "  </thead>\n",
              "  <tbody>\n",
              "    <tr>\n",
              "      <th>0</th>\n",
              "      <td>1</td>\n",
              "      <td>subject enron methanol meter this is a follow ...</td>\n",
              "    </tr>\n",
              "    <tr>\n",
              "      <th>1</th>\n",
              "      <td>1</td>\n",
              "      <td>subject hpl nom for january see attached file ...</td>\n",
              "    </tr>\n",
              "    <tr>\n",
              "      <th>2</th>\n",
              "      <td>1</td>\n",
              "      <td>subject neon retreat ho ho ho we re around to ...</td>\n",
              "    </tr>\n",
              "    <tr>\n",
              "      <th>3</th>\n",
              "      <td>0</td>\n",
              "      <td>subject photoshop windows office cheap main tr...</td>\n",
              "    </tr>\n",
              "    <tr>\n",
              "      <th>4</th>\n",
              "      <td>1</td>\n",
              "      <td>subject re indian springs this deal is to book...</td>\n",
              "    </tr>\n",
              "  </tbody>\n",
              "</table>\n",
              "</div>\n",
              "      <button class=\"colab-df-convert\" onclick=\"convertToInteractive('df-9eb379bd-43aa-4c63-89d8-16b234e1e546')\"\n",
              "              title=\"Convert this dataframe to an interactive table.\"\n",
              "              style=\"display:none;\">\n",
              "        \n",
              "  <svg xmlns=\"http://www.w3.org/2000/svg\" height=\"24px\"viewBox=\"0 0 24 24\"\n",
              "       width=\"24px\">\n",
              "    <path d=\"M0 0h24v24H0V0z\" fill=\"none\"/>\n",
              "    <path d=\"M18.56 5.44l.94 2.06.94-2.06 2.06-.94-2.06-.94-.94-2.06-.94 2.06-2.06.94zm-11 1L8.5 8.5l.94-2.06 2.06-.94-2.06-.94L8.5 2.5l-.94 2.06-2.06.94zm10 10l.94 2.06.94-2.06 2.06-.94-2.06-.94-.94-2.06-.94 2.06-2.06.94z\"/><path d=\"M17.41 7.96l-1.37-1.37c-.4-.4-.92-.59-1.43-.59-.52 0-1.04.2-1.43.59L10.3 9.45l-7.72 7.72c-.78.78-.78 2.05 0 2.83L4 21.41c.39.39.9.59 1.41.59.51 0 1.02-.2 1.41-.59l7.78-7.78 2.81-2.81c.8-.78.8-2.07 0-2.86zM5.41 20L4 18.59l7.72-7.72 1.47 1.35L5.41 20z\"/>\n",
              "  </svg>\n",
              "      </button>\n",
              "      \n",
              "  <style>\n",
              "    .colab-df-container {\n",
              "      display:flex;\n",
              "      flex-wrap:wrap;\n",
              "      gap: 12px;\n",
              "    }\n",
              "\n",
              "    .colab-df-convert {\n",
              "      background-color: #E8F0FE;\n",
              "      border: none;\n",
              "      border-radius: 50%;\n",
              "      cursor: pointer;\n",
              "      display: none;\n",
              "      fill: #1967D2;\n",
              "      height: 32px;\n",
              "      padding: 0 0 0 0;\n",
              "      width: 32px;\n",
              "    }\n",
              "\n",
              "    .colab-df-convert:hover {\n",
              "      background-color: #E2EBFA;\n",
              "      box-shadow: 0px 1px 2px rgba(60, 64, 67, 0.3), 0px 1px 3px 1px rgba(60, 64, 67, 0.15);\n",
              "      fill: #174EA6;\n",
              "    }\n",
              "\n",
              "    [theme=dark] .colab-df-convert {\n",
              "      background-color: #3B4455;\n",
              "      fill: #D2E3FC;\n",
              "    }\n",
              "\n",
              "    [theme=dark] .colab-df-convert:hover {\n",
              "      background-color: #434B5C;\n",
              "      box-shadow: 0px 1px 3px 1px rgba(0, 0, 0, 0.15);\n",
              "      filter: drop-shadow(0px 1px 2px rgba(0, 0, 0, 0.3));\n",
              "      fill: #FFFFFF;\n",
              "    }\n",
              "  </style>\n",
              "\n",
              "      <script>\n",
              "        const buttonEl =\n",
              "          document.querySelector('#df-9eb379bd-43aa-4c63-89d8-16b234e1e546 button.colab-df-convert');\n",
              "        buttonEl.style.display =\n",
              "          google.colab.kernel.accessAllowed ? 'block' : 'none';\n",
              "\n",
              "        async function convertToInteractive(key) {\n",
              "          const element = document.querySelector('#df-9eb379bd-43aa-4c63-89d8-16b234e1e546');\n",
              "          const dataTable =\n",
              "            await google.colab.kernel.invokeFunction('convertToInteractive',\n",
              "                                                     [key], {});\n",
              "          if (!dataTable) return;\n",
              "\n",
              "          const docLinkHtml = 'Like what you see? Visit the ' +\n",
              "            '<a target=\"_blank\" href=https://colab.research.google.com/notebooks/data_table.ipynb>data table notebook</a>'\n",
              "            + ' to learn more about interactive tables.';\n",
              "          element.innerHTML = '';\n",
              "          dataTable['output_type'] = 'display_data';\n",
              "          await google.colab.output.renderOutput(dataTable, element);\n",
              "          const docLink = document.createElement('div');\n",
              "          docLink.innerHTML = docLinkHtml;\n",
              "          element.appendChild(docLink);\n",
              "        }\n",
              "      </script>\n",
              "    </div>\n",
              "  </div>\n",
              "  "
            ]
          },
          "metadata": {},
          "execution_count": 30
        }
      ]
    },
    {
      "cell_type": "markdown",
      "source": [
        "Separating the data as Category and Subject"
      ],
      "metadata": {
        "id": "Ff7XFCwUMKi8"
      }
    },
    {
      "cell_type": "code",
      "source": [
        "X = df['Category']\n",
        "\n",
        "Y = df['Subject']"
      ],
      "metadata": {
        "id": "sSS3WH9rMJ3M"
      },
      "execution_count": 31,
      "outputs": []
    },
    {
      "cell_type": "code",
      "source": [
        "print(X)"
      ],
      "metadata": {
        "colab": {
          "base_uri": "https://localhost:8080/"
        },
        "id": "E5ZKgGbGMMv9",
        "outputId": "de943342-e555-4c5e-af79-47ee4dc8067c"
      },
      "execution_count": 32,
      "outputs": [
        {
          "output_type": "stream",
          "name": "stdout",
          "text": [
            "0       1\n",
            "1       1\n",
            "2       1\n",
            "3       0\n",
            "4       1\n",
            "       ..\n",
            "5166    1\n",
            "5167    1\n",
            "5168    1\n",
            "5169    1\n",
            "5170    0\n",
            "Name: Category, Length: 5171, dtype: object\n"
          ]
        }
      ]
    },
    {
      "cell_type": "code",
      "source": [
        "print(Y)"
      ],
      "metadata": {
        "colab": {
          "base_uri": "https://localhost:8080/"
        },
        "id": "rRfDnRnuMOF2",
        "outputId": "d866432b-a93b-43ba-cbfd-6978af0161f3"
      },
      "execution_count": 33,
      "outputs": [
        {
          "output_type": "stream",
          "name": "stdout",
          "text": [
            "0       subject enron methanol meter this is a follow ...\n",
            "1       subject hpl nom for january see attached file ...\n",
            "2       subject neon retreat ho ho ho we re around to ...\n",
            "3       subject photoshop windows office cheap main tr...\n",
            "4       subject re indian springs this deal is to book...\n",
            "                              ...                        \n",
            "5166    subject put the on the ft the transport volume...\n",
            "5167    subject and following noms hpl can t take the ...\n",
            "5168    subject calpine daily gas nomination julie as ...\n",
            "5169    subject industrial worksheets for august activ...\n",
            "5170    subject important online banking alert dear va...\n",
            "Name: Subject, Length: 5171, dtype: object\n"
          ]
        }
      ]
    },
    {
      "cell_type": "markdown",
      "source": [
        "\n",
        "Splitting the data into training data & test data"
      ],
      "metadata": {
        "id": "pjokNNafMP9c"
      }
    },
    {
      "cell_type": "code",
      "source": [
        "X_train, X_test, Y_train, Y_test = train_test_split(X,Y,test_size=0.2,random_state=0)\n",
        "X_train = X_train.astype('int')\n",
        "X_test = X_test.astype('int')\n",
        "\n",
        "print(X.shape)\n",
        "print(X_train.shape)\n",
        "print(X_test.shape)"
      ],
      "metadata": {
        "colab": {
          "base_uri": "https://localhost:8080/"
        },
        "id": "E9jZ37UvMQY7",
        "outputId": "f6d266d9-635a-40a6-9e64-cefd8732b289"
      },
      "execution_count": 34,
      "outputs": [
        {
          "output_type": "stream",
          "name": "stdout",
          "text": [
            "(5171,)\n",
            "(4136,)\n",
            "(1035,)\n"
          ]
        }
      ]
    },
    {
      "cell_type": "markdown",
      "source": [
        "Feature Extraction"
      ],
      "metadata": {
        "id": "YQeFymkfG-zj"
      }
    },
    {
      "cell_type": "code",
      "source": [
        "feature_extraction = TfidfVectorizer(min_df = 1, stop_words='english', lowercase=True)"
      ],
      "metadata": {
        "id": "v_AxOigLHAof"
      },
      "execution_count": 36,
      "outputs": []
    },
    {
      "cell_type": "code",
      "source": [
        "Y_train_featured = feature_extraction.fit_transform(Y_train)\n",
        "Y_test_featured = feature_extraction.transform(Y_test)"
      ],
      "metadata": {
        "id": "L_iEHNrMHCoR"
      },
      "execution_count": 37,
      "outputs": []
    },
    {
      "cell_type": "code",
      "source": [
        "print(Y_train)"
      ],
      "metadata": {
        "colab": {
          "base_uri": "https://localhost:8080/"
        },
        "id": "kFFeRKdaHDhL",
        "outputId": "22c16517-ee50-4a49-bf10-758fecb0185f"
      },
      "execution_count": 38,
      "outputs": [
        {
          "output_type": "stream",
          "name": "stdout",
          "text": [
            "3628    subject meter scherlyn per our conversation he...\n",
            "2491    subject natural gas nomination for enron metha...\n",
            "3262    subject cleburne outage gentlemen i wanted to ...\n",
            "2972    subject daren the firm trading waha book has b...\n",
            "2481    subject re mon feb page loading image not show...\n",
            "                              ...                        \n",
            "4931    subject re pretty boy wants to meet his soulma...\n",
            "3264    subject if you need to make money learn from t...\n",
            "1653    subject find out where to buy drugs cheap find...\n",
            "2607    subject job survey and matching heather darren...\n",
            "2732    subject forwarded by tom acton corp enron on p...\n",
            "Name: Subject, Length: 4136, dtype: object\n"
          ]
        }
      ]
    },
    {
      "cell_type": "code",
      "source": [
        "print(Y_train_featured)"
      ],
      "metadata": {
        "colab": {
          "base_uri": "https://localhost:8080/"
        },
        "id": "tGiaw8qsHGww",
        "outputId": "c39b8034-caf0-4121-be4a-8280465e9790"
      },
      "execution_count": 39,
      "outputs": [
        {
          "output_type": "stream",
          "name": "stdout",
          "text": [
            "  (0, 34843)\t0.209674553125394\n",
            "  (0, 17597)\t0.21749164358073084\n",
            "  (0, 35016)\t0.25752744732861527\n",
            "  (0, 24052)\t0.14133037133722523\n",
            "  (0, 12362)\t0.23041955710463574\n",
            "  (0, 21064)\t0.18690079795641928\n",
            "  (0, 20012)\t0.12219812145536768\n",
            "  (0, 20732)\t0.1316413681304691\n",
            "  (0, 31462)\t0.25306377591220497\n",
            "  (0, 34391)\t0.17408496520088396\n",
            "  (0, 8128)\t0.16346769341772793\n",
            "  (0, 23933)\t0.18952860841730024\n",
            "  (0, 21914)\t0.18797819133930524\n",
            "  (0, 13535)\t0.21436091487202985\n",
            "  (0, 23262)\t0.21360930091171546\n",
            "  (0, 8188)\t0.2691224181448108\n",
            "  (0, 30756)\t0.41209823477907254\n",
            "  (0, 22615)\t0.4167946496245476\n",
            "  (0, 33287)\t0.04772650009362891\n",
            "  (1, 26953)\t0.12968696823568582\n",
            "  (1, 23312)\t0.16840793303087576\n",
            "  (1, 23480)\t0.1892561946689478\n",
            "  (1, 11794)\t0.19616932840527507\n",
            "  (1, 9379)\t0.19252222664107874\n",
            "  (1, 23050)\t0.2038437513299149\n",
            "  :\t:\n",
            "  (4135, 15758)\t0.12162838130188036\n",
            "  (4135, 389)\t0.26723642070815484\n",
            "  (4135, 28828)\t0.10925795588389492\n",
            "  (4135, 23260)\t0.08506967613644434\n",
            "  (4135, 32084)\t0.1104144485252494\n",
            "  (4135, 33595)\t0.1169033767097931\n",
            "  (4135, 34038)\t0.11490830278442599\n",
            "  (4135, 36328)\t0.11224874858968183\n",
            "  (4135, 36012)\t0.12009998107605539\n",
            "  (4135, 11621)\t0.5197272075045579\n",
            "  (4135, 17205)\t0.22577654545820536\n",
            "  (4135, 26887)\t0.14101909625317527\n",
            "  (4135, 8349)\t0.15438338244926728\n",
            "  (4135, 14362)\t0.07382981561454352\n",
            "  (4135, 25712)\t0.15359851743003725\n",
            "  (4135, 13782)\t0.08666214786794041\n",
            "  (4135, 2487)\t0.073567842812492\n",
            "  (4135, 9345)\t0.1066965292277895\n",
            "  (4135, 6054)\t0.06449628761470957\n",
            "  (4135, 22467)\t0.10774528028320444\n",
            "  (4135, 24341)\t0.10787931426946087\n",
            "  (4135, 34395)\t0.061678976477011274\n",
            "  (4135, 12337)\t0.181601944677216\n",
            "  (4135, 34843)\t0.35242306011135566\n",
            "  (4135, 33287)\t0.05347944854119581\n"
          ]
        }
      ]
    },
    {
      "cell_type": "markdown",
      "source": [
        "\n",
        "**Logistic Regression**"
      ],
      "metadata": {
        "id": "j9MrH30iHJYu"
      }
    },
    {
      "cell_type": "code",
      "source": [
        "model = LogisticRegression()"
      ],
      "metadata": {
        "id": "uKJiBgIlHK6b"
      },
      "execution_count": 40,
      "outputs": []
    },
    {
      "cell_type": "code",
      "source": [
        "# Training the Logistic Regression model\n",
        "model.fit(Y_train_featured,X_train)"
      ],
      "metadata": {
        "colab": {
          "base_uri": "https://localhost:8080/",
          "height": 74
        },
        "id": "9RAN3qScHMGI",
        "outputId": "f51d6dff-2bd3-4dcb-a658-8d2dc602f1da"
      },
      "execution_count": 41,
      "outputs": [
        {
          "output_type": "execute_result",
          "data": {
            "text/plain": [
              "LogisticRegression()"
            ],
            "text/html": [
              "<style>#sk-container-id-1 {color: black;background-color: white;}#sk-container-id-1 pre{padding: 0;}#sk-container-id-1 div.sk-toggleable {background-color: white;}#sk-container-id-1 label.sk-toggleable__label {cursor: pointer;display: block;width: 100%;margin-bottom: 0;padding: 0.3em;box-sizing: border-box;text-align: center;}#sk-container-id-1 label.sk-toggleable__label-arrow:before {content: \"▸\";float: left;margin-right: 0.25em;color: #696969;}#sk-container-id-1 label.sk-toggleable__label-arrow:hover:before {color: black;}#sk-container-id-1 div.sk-estimator:hover label.sk-toggleable__label-arrow:before {color: black;}#sk-container-id-1 div.sk-toggleable__content {max-height: 0;max-width: 0;overflow: hidden;text-align: left;background-color: #f0f8ff;}#sk-container-id-1 div.sk-toggleable__content pre {margin: 0.2em;color: black;border-radius: 0.25em;background-color: #f0f8ff;}#sk-container-id-1 input.sk-toggleable__control:checked~div.sk-toggleable__content {max-height: 200px;max-width: 100%;overflow: auto;}#sk-container-id-1 input.sk-toggleable__control:checked~label.sk-toggleable__label-arrow:before {content: \"▾\";}#sk-container-id-1 div.sk-estimator input.sk-toggleable__control:checked~label.sk-toggleable__label {background-color: #d4ebff;}#sk-container-id-1 div.sk-label input.sk-toggleable__control:checked~label.sk-toggleable__label {background-color: #d4ebff;}#sk-container-id-1 input.sk-hidden--visually {border: 0;clip: rect(1px 1px 1px 1px);clip: rect(1px, 1px, 1px, 1px);height: 1px;margin: -1px;overflow: hidden;padding: 0;position: absolute;width: 1px;}#sk-container-id-1 div.sk-estimator {font-family: monospace;background-color: #f0f8ff;border: 1px dotted black;border-radius: 0.25em;box-sizing: border-box;margin-bottom: 0.5em;}#sk-container-id-1 div.sk-estimator:hover {background-color: #d4ebff;}#sk-container-id-1 div.sk-parallel-item::after {content: \"\";width: 100%;border-bottom: 1px solid gray;flex-grow: 1;}#sk-container-id-1 div.sk-label:hover label.sk-toggleable__label {background-color: #d4ebff;}#sk-container-id-1 div.sk-serial::before {content: \"\";position: absolute;border-left: 1px solid gray;box-sizing: border-box;top: 0;bottom: 0;left: 50%;z-index: 0;}#sk-container-id-1 div.sk-serial {display: flex;flex-direction: column;align-items: center;background-color: white;padding-right: 0.2em;padding-left: 0.2em;position: relative;}#sk-container-id-1 div.sk-item {position: relative;z-index: 1;}#sk-container-id-1 div.sk-parallel {display: flex;align-items: stretch;justify-content: center;background-color: white;position: relative;}#sk-container-id-1 div.sk-item::before, #sk-container-id-1 div.sk-parallel-item::before {content: \"\";position: absolute;border-left: 1px solid gray;box-sizing: border-box;top: 0;bottom: 0;left: 50%;z-index: -1;}#sk-container-id-1 div.sk-parallel-item {display: flex;flex-direction: column;z-index: 1;position: relative;background-color: white;}#sk-container-id-1 div.sk-parallel-item:first-child::after {align-self: flex-end;width: 50%;}#sk-container-id-1 div.sk-parallel-item:last-child::after {align-self: flex-start;width: 50%;}#sk-container-id-1 div.sk-parallel-item:only-child::after {width: 0;}#sk-container-id-1 div.sk-dashed-wrapped {border: 1px dashed gray;margin: 0 0.4em 0.5em 0.4em;box-sizing: border-box;padding-bottom: 0.4em;background-color: white;}#sk-container-id-1 div.sk-label label {font-family: monospace;font-weight: bold;display: inline-block;line-height: 1.2em;}#sk-container-id-1 div.sk-label-container {text-align: center;}#sk-container-id-1 div.sk-container {/* jupyter's `normalize.less` sets `[hidden] { display: none; }` but bootstrap.min.css set `[hidden] { display: none !important; }` so we also need the `!important` here to be able to override the default hidden behavior on the sphinx rendered scikit-learn.org. See: https://github.com/scikit-learn/scikit-learn/issues/21755 */display: inline-block !important;position: relative;}#sk-container-id-1 div.sk-text-repr-fallback {display: none;}</style><div id=\"sk-container-id-1\" class=\"sk-top-container\"><div class=\"sk-text-repr-fallback\"><pre>LogisticRegression()</pre><b>In a Jupyter environment, please rerun this cell to show the HTML representation or trust the notebook. <br />On GitHub, the HTML representation is unable to render, please try loading this page with nbviewer.org.</b></div><div class=\"sk-container\" hidden><div class=\"sk-item\"><div class=\"sk-estimator sk-toggleable\"><input class=\"sk-toggleable__control sk-hidden--visually\" id=\"sk-estimator-id-1\" type=\"checkbox\" checked><label for=\"sk-estimator-id-1\" class=\"sk-toggleable__label sk-toggleable__label-arrow\">LogisticRegression</label><div class=\"sk-toggleable__content\"><pre>LogisticRegression()</pre></div></div></div></div></div>"
            ]
          },
          "metadata": {},
          "execution_count": 41
        }
      ]
    },
    {
      "cell_type": "code",
      "source": [
        "Prediction_on_train_data = model.predict(Y_train_featured)\n",
        "accuracy_on_train_data = accuracy_score(X_train,Prediction_on_train_data)\n",
        "print('Accuracy_on_train_data : ', accuracy_on_train_data*100)"
      ],
      "metadata": {
        "colab": {
          "base_uri": "https://localhost:8080/"
        },
        "id": "Z9cUOlZaHPrf",
        "outputId": "1d673c2f-1555-4e51-8dcf-881bbf428c93"
      },
      "execution_count": 42,
      "outputs": [
        {
          "output_type": "stream",
          "name": "stdout",
          "text": [
            "Accuracy_on_train_data :  99.63733075435202\n"
          ]
        }
      ]
    },
    {
      "cell_type": "code",
      "source": [
        "Prediction_on_test_data = model.predict(Y_test_featured)\n",
        "accuracy_on_test_data = accuracy_score(X_test,Prediction_on_test_data)\n",
        "print('Accuracy_on_test_data : ',accuracy_on_test_data*100)"
      ],
      "metadata": {
        "colab": {
          "base_uri": "https://localhost:8080/"
        },
        "id": "obMy_hIgHTTI",
        "outputId": "aedef2db-1381-4430-c193-ab7c9e4c9241"
      },
      "execution_count": 44,
      "outputs": [
        {
          "output_type": "stream",
          "name": "stdout",
          "text": [
            "Accuracy_on_test_data :  98.74396135265701\n"
          ]
        }
      ]
    },
    {
      "cell_type": "markdown",
      "source": [
        "![thank u.jpg](data:image/jpeg;base64,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)"
      ],
      "metadata": {
        "id": "ZEZmzY6mHVtf"
      }
    }
  ]
}